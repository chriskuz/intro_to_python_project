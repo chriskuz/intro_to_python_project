{
 "cells": [
  {
   "cell_type": "code",
   "execution_count": 1,
   "metadata": {},
   "outputs": [],
   "source": [
    "import pandas as pd\n",
    "import numpy as np"
   ]
  },
  {
   "cell_type": "markdown",
   "metadata": {},
   "source": [
    "# Purpose\n",
    "\n",
    "Author: Chris Kuzemka\n",
    "\n",
    "The purpose of this notebook is to check what is housed inside the kaggle dataset of flight itineraries. The dataset is a large and computationally expensive. It can be downloaded [here](https://www.kaggle.com/datasets/dilwong/flightprices/data). \n",
    "\n",
    "Details and a report going over what is found will be placed here as well as a summary of what to clean and change. "
   ]
  },
  {
   "cell_type": "markdown",
   "metadata": {},
   "source": [
    "# Data"
   ]
  },
  {
   "cell_type": "code",
   "execution_count": 3,
   "metadata": {},
   "outputs": [],
   "source": [
    "# do this to show all the columns....note setting None means there are no restrictions on any of this. \n",
    "pd.set_option(\"display.max_columns\", None)"
   ]
  },
  {
   "cell_type": "code",
   "execution_count": 3,
   "metadata": {},
   "outputs": [],
   "source": [
    "df = pd.read_csv(\"../data/jetblue_df.csv\")"
   ]
  },
  {
   "cell_type": "code",
   "execution_count": 16,
   "metadata": {},
   "outputs": [
    {
     "data": {
      "text/html": [
       "<div>\n",
       "<style scoped>\n",
       "    .dataframe tbody tr th:only-of-type {\n",
       "        vertical-align: middle;\n",
       "    }\n",
       "\n",
       "    .dataframe tbody tr th {\n",
       "        vertical-align: top;\n",
       "    }\n",
       "\n",
       "    .dataframe thead th {\n",
       "        text-align: right;\n",
       "    }\n",
       "</style>\n",
       "<table border=\"1\" class=\"dataframe\">\n",
       "  <thead>\n",
       "    <tr style=\"text-align: right;\">\n",
       "      <th></th>\n",
       "      <th>Unnamed: 0</th>\n",
       "      <th>legId</th>\n",
       "      <th>searchDate</th>\n",
       "      <th>flightDate</th>\n",
       "      <th>startingAirport</th>\n",
       "      <th>destinationAirport</th>\n",
       "      <th>fareBasisCode</th>\n",
       "      <th>travelDuration</th>\n",
       "      <th>elapsedDays</th>\n",
       "      <th>isBasicEconomy</th>\n",
       "      <th>isRefundable</th>\n",
       "      <th>isNonStop</th>\n",
       "      <th>baseFare</th>\n",
       "      <th>totalFare</th>\n",
       "      <th>seatsRemaining</th>\n",
       "      <th>totalTravelDistance</th>\n",
       "      <th>segmentsDepartureTimeEpochSeconds</th>\n",
       "      <th>segmentsDepartureTimeRaw</th>\n",
       "      <th>segmentsArrivalTimeEpochSeconds</th>\n",
       "      <th>segmentsArrivalTimeRaw</th>\n",
       "      <th>segmentsArrivalAirportCode</th>\n",
       "      <th>segmentsDepartureAirportCode</th>\n",
       "      <th>segmentsAirlineName</th>\n",
       "      <th>segmentsAirlineCode</th>\n",
       "      <th>segmentsEquipmentDescription</th>\n",
       "      <th>segmentsDurationInSeconds</th>\n",
       "      <th>segmentsDistance</th>\n",
       "      <th>segmentsCabinCode</th>\n",
       "    </tr>\n",
       "  </thead>\n",
       "  <tbody>\n",
       "    <tr>\n",
       "      <th>0</th>\n",
       "      <td>5</td>\n",
       "      <td>79eda9f841e226a1e2121d74211e595c</td>\n",
       "      <td>2022-04-16</td>\n",
       "      <td>2022-04-17</td>\n",
       "      <td>ATL</td>\n",
       "      <td>BOS</td>\n",
       "      <td>VH0AUEL1</td>\n",
       "      <td>PT2H38M</td>\n",
       "      <td>0</td>\n",
       "      <td>False</td>\n",
       "      <td>False</td>\n",
       "      <td>True</td>\n",
       "      <td>217.67</td>\n",
       "      <td>248.60</td>\n",
       "      <td>7</td>\n",
       "      <td>947.0</td>\n",
       "      <td>1650206700</td>\n",
       "      <td>2022-04-17T10:45:00.000-04:00</td>\n",
       "      <td>1650216180</td>\n",
       "      <td>2022-04-17T13:23:00.000-04:00</td>\n",
       "      <td>BOS</td>\n",
       "      <td>ATL</td>\n",
       "      <td>JetBlue Airways</td>\n",
       "      <td>B6</td>\n",
       "      <td>NaN</td>\n",
       "      <td>9480</td>\n",
       "      <td>947</td>\n",
       "      <td>coach</td>\n",
       "    </tr>\n",
       "    <tr>\n",
       "      <th>1</th>\n",
       "      <td>29</td>\n",
       "      <td>24c07cf38de8a7a0ed2d7709168042a8</td>\n",
       "      <td>2022-04-16</td>\n",
       "      <td>2022-04-17</td>\n",
       "      <td>ATL</td>\n",
       "      <td>BOS</td>\n",
       "      <td>QH0KUEL1</td>\n",
       "      <td>PT2H44M</td>\n",
       "      <td>0</td>\n",
       "      <td>False</td>\n",
       "      <td>False</td>\n",
       "      <td>True</td>\n",
       "      <td>316.73</td>\n",
       "      <td>355.09</td>\n",
       "      <td>7</td>\n",
       "      <td>947.0</td>\n",
       "      <td>1650233220</td>\n",
       "      <td>2022-04-17T18:07:00.000-04:00</td>\n",
       "      <td>1650243060</td>\n",
       "      <td>2022-04-17T20:51:00.000-04:00</td>\n",
       "      <td>BOS</td>\n",
       "      <td>ATL</td>\n",
       "      <td>JetBlue Airways</td>\n",
       "      <td>B6</td>\n",
       "      <td>NaN</td>\n",
       "      <td>9840</td>\n",
       "      <td>947</td>\n",
       "      <td>coach</td>\n",
       "    </tr>\n",
       "    <tr>\n",
       "      <th>2</th>\n",
       "      <td>57</td>\n",
       "      <td>a291a2b5ac19223c3407cfec58d1fc24</td>\n",
       "      <td>2022-04-16</td>\n",
       "      <td>2022-04-17</td>\n",
       "      <td>ATL</td>\n",
       "      <td>CLT</td>\n",
       "      <td>VH0AUEL1</td>\n",
       "      <td>PT8H48M</td>\n",
       "      <td>0</td>\n",
       "      <td>False</td>\n",
       "      <td>False</td>\n",
       "      <td>False</td>\n",
       "      <td>482.79</td>\n",
       "      <td>542.60</td>\n",
       "      <td>7</td>\n",
       "      <td>1675.0</td>\n",
       "      <td>1650206700||1650229500</td>\n",
       "      <td>2022-04-17T10:45:00.000-04:00||2022-04-17T17:0...</td>\n",
       "      <td>1650216180||1650238380</td>\n",
       "      <td>2022-04-17T13:23:00.000-04:00||2022-04-17T19:3...</td>\n",
       "      <td>BOS||CLT</td>\n",
       "      <td>ATL||BOS</td>\n",
       "      <td>JetBlue Airways||JetBlue Airways</td>\n",
       "      <td>B6||B6</td>\n",
       "      <td>||Embraer 190</td>\n",
       "      <td>9480||8880</td>\n",
       "      <td>947||728</td>\n",
       "      <td>coach||coach</td>\n",
       "    </tr>\n",
       "    <tr>\n",
       "      <th>3</th>\n",
       "      <td>146</td>\n",
       "      <td>d53bcf9e8b6523fa2de9420d7cb22196</td>\n",
       "      <td>2022-04-16</td>\n",
       "      <td>2022-04-17</td>\n",
       "      <td>ATL</td>\n",
       "      <td>DTW</td>\n",
       "      <td>RH0AUEL1</td>\n",
       "      <td>PT5H8M</td>\n",
       "      <td>0</td>\n",
       "      <td>False</td>\n",
       "      <td>False</td>\n",
       "      <td>False</td>\n",
       "      <td>269.78</td>\n",
       "      <td>313.61</td>\n",
       "      <td>7</td>\n",
       "      <td>1247.0</td>\n",
       "      <td>1650235800||1650246600</td>\n",
       "      <td>2022-04-17T18:50:00.000-04:00||2022-04-17T21:5...</td>\n",
       "      <td>1650244380||1650254280</td>\n",
       "      <td>2022-04-17T21:13:00.000-04:00||2022-04-17T23:5...</td>\n",
       "      <td>JFK||DTW</td>\n",
       "      <td>ATL||JFK</td>\n",
       "      <td>JetBlue Airways||JetBlue Airways</td>\n",
       "      <td>B6||B6</td>\n",
       "      <td>Embraer 190||Embraer 190</td>\n",
       "      <td>8580||7680</td>\n",
       "      <td>762||485</td>\n",
       "      <td>coach||coach</td>\n",
       "    </tr>\n",
       "    <tr>\n",
       "      <th>4</th>\n",
       "      <td>209</td>\n",
       "      <td>5bb138f39804320ece767e747608a50e</td>\n",
       "      <td>2022-04-16</td>\n",
       "      <td>2022-04-17</td>\n",
       "      <td>ATL</td>\n",
       "      <td>EWR</td>\n",
       "      <td>VC0QBEL1</td>\n",
       "      <td>PT2H9M</td>\n",
       "      <td>0</td>\n",
       "      <td>False</td>\n",
       "      <td>False</td>\n",
       "      <td>True</td>\n",
       "      <td>171.16</td>\n",
       "      <td>198.60</td>\n",
       "      <td>7</td>\n",
       "      <td>762.0</td>\n",
       "      <td>1650195000</td>\n",
       "      <td>2022-04-17T07:30:00.000-04:00</td>\n",
       "      <td>1650202740</td>\n",
       "      <td>2022-04-17T09:39:00.000-04:00</td>\n",
       "      <td>EWR</td>\n",
       "      <td>ATL</td>\n",
       "      <td>JetBlue Airways</td>\n",
       "      <td>B6</td>\n",
       "      <td>Embraer 190</td>\n",
       "      <td>7740</td>\n",
       "      <td>762</td>\n",
       "      <td>coach</td>\n",
       "    </tr>\n",
       "  </tbody>\n",
       "</table>\n",
       "</div>"
      ],
      "text/plain": [
       "   Unnamed: 0                             legId  searchDate  flightDate  \\\n",
       "0           5  79eda9f841e226a1e2121d74211e595c  2022-04-16  2022-04-17   \n",
       "1          29  24c07cf38de8a7a0ed2d7709168042a8  2022-04-16  2022-04-17   \n",
       "2          57  a291a2b5ac19223c3407cfec58d1fc24  2022-04-16  2022-04-17   \n",
       "3         146  d53bcf9e8b6523fa2de9420d7cb22196  2022-04-16  2022-04-17   \n",
       "4         209  5bb138f39804320ece767e747608a50e  2022-04-16  2022-04-17   \n",
       "\n",
       "  startingAirport destinationAirport fareBasisCode travelDuration  \\\n",
       "0             ATL                BOS      VH0AUEL1        PT2H38M   \n",
       "1             ATL                BOS      QH0KUEL1        PT2H44M   \n",
       "2             ATL                CLT      VH0AUEL1        PT8H48M   \n",
       "3             ATL                DTW      RH0AUEL1         PT5H8M   \n",
       "4             ATL                EWR      VC0QBEL1         PT2H9M   \n",
       "\n",
       "   elapsedDays  isBasicEconomy  isRefundable  isNonStop  baseFare  totalFare  \\\n",
       "0            0           False         False       True    217.67     248.60   \n",
       "1            0           False         False       True    316.73     355.09   \n",
       "2            0           False         False      False    482.79     542.60   \n",
       "3            0           False         False      False    269.78     313.61   \n",
       "4            0           False         False       True    171.16     198.60   \n",
       "\n",
       "   seatsRemaining  totalTravelDistance segmentsDepartureTimeEpochSeconds  \\\n",
       "0               7                947.0                        1650206700   \n",
       "1               7                947.0                        1650233220   \n",
       "2               7               1675.0            1650206700||1650229500   \n",
       "3               7               1247.0            1650235800||1650246600   \n",
       "4               7                762.0                        1650195000   \n",
       "\n",
       "                            segmentsDepartureTimeRaw  \\\n",
       "0                      2022-04-17T10:45:00.000-04:00   \n",
       "1                      2022-04-17T18:07:00.000-04:00   \n",
       "2  2022-04-17T10:45:00.000-04:00||2022-04-17T17:0...   \n",
       "3  2022-04-17T18:50:00.000-04:00||2022-04-17T21:5...   \n",
       "4                      2022-04-17T07:30:00.000-04:00   \n",
       "\n",
       "  segmentsArrivalTimeEpochSeconds  \\\n",
       "0                      1650216180   \n",
       "1                      1650243060   \n",
       "2          1650216180||1650238380   \n",
       "3          1650244380||1650254280   \n",
       "4                      1650202740   \n",
       "\n",
       "                              segmentsArrivalTimeRaw  \\\n",
       "0                      2022-04-17T13:23:00.000-04:00   \n",
       "1                      2022-04-17T20:51:00.000-04:00   \n",
       "2  2022-04-17T13:23:00.000-04:00||2022-04-17T19:3...   \n",
       "3  2022-04-17T21:13:00.000-04:00||2022-04-17T23:5...   \n",
       "4                      2022-04-17T09:39:00.000-04:00   \n",
       "\n",
       "  segmentsArrivalAirportCode segmentsDepartureAirportCode  \\\n",
       "0                        BOS                          ATL   \n",
       "1                        BOS                          ATL   \n",
       "2                   BOS||CLT                     ATL||BOS   \n",
       "3                   JFK||DTW                     ATL||JFK   \n",
       "4                        EWR                          ATL   \n",
       "\n",
       "                segmentsAirlineName segmentsAirlineCode  \\\n",
       "0                   JetBlue Airways                  B6   \n",
       "1                   JetBlue Airways                  B6   \n",
       "2  JetBlue Airways||JetBlue Airways              B6||B6   \n",
       "3  JetBlue Airways||JetBlue Airways              B6||B6   \n",
       "4                   JetBlue Airways                  B6   \n",
       "\n",
       "  segmentsEquipmentDescription segmentsDurationInSeconds segmentsDistance  \\\n",
       "0                          NaN                      9480              947   \n",
       "1                          NaN                      9840              947   \n",
       "2                ||Embraer 190                9480||8880         947||728   \n",
       "3     Embraer 190||Embraer 190                8580||7680         762||485   \n",
       "4                  Embraer 190                      7740              762   \n",
       "\n",
       "  segmentsCabinCode  \n",
       "0             coach  \n",
       "1             coach  \n",
       "2      coach||coach  \n",
       "3      coach||coach  \n",
       "4             coach  "
      ]
     },
     "execution_count": 16,
     "metadata": {},
     "output_type": "execute_result"
    }
   ],
   "source": [
    "df.head()"
   ]
  },
  {
   "cell_type": "code",
   "execution_count": 17,
   "metadata": {},
   "outputs": [
    {
     "data": {
      "text/plain": [
       "['Unnamed: 0',\n",
       " 'baseFare',\n",
       " 'destinationAirport',\n",
       " 'elapsedDays',\n",
       " 'fareBasisCode',\n",
       " 'flightDate',\n",
       " 'isBasicEconomy',\n",
       " 'isNonStop',\n",
       " 'isRefundable',\n",
       " 'legId',\n",
       " 'searchDate',\n",
       " 'seatsRemaining',\n",
       " 'segmentsAirlineCode',\n",
       " 'segmentsAirlineName',\n",
       " 'segmentsArrivalAirportCode',\n",
       " 'segmentsArrivalTimeEpochSeconds',\n",
       " 'segmentsArrivalTimeRaw',\n",
       " 'segmentsCabinCode',\n",
       " 'segmentsDepartureAirportCode',\n",
       " 'segmentsDepartureTimeEpochSeconds',\n",
       " 'segmentsDepartureTimeRaw',\n",
       " 'segmentsDistance',\n",
       " 'segmentsDurationInSeconds',\n",
       " 'segmentsEquipmentDescription',\n",
       " 'startingAirport',\n",
       " 'totalFare',\n",
       " 'totalTravelDistance',\n",
       " 'travelDuration']"
      ]
     },
     "execution_count": 17,
     "metadata": {},
     "output_type": "execute_result"
    }
   ],
   "source": [
    "sorted(df.columns)"
   ]
  },
  {
   "cell_type": "code",
   "execution_count": 18,
   "metadata": {},
   "outputs": [
    {
     "data": {
      "text/plain": [
       "(6824440, 28)"
      ]
     },
     "execution_count": 18,
     "metadata": {},
     "output_type": "execute_result"
    }
   ],
   "source": [
    "df.shape"
   ]
  },
  {
   "cell_type": "code",
   "execution_count": 19,
   "metadata": {},
   "outputs": [
    {
     "data": {
      "text/plain": [
       "191084320"
      ]
     },
     "execution_count": 19,
     "metadata": {},
     "output_type": "execute_result"
    }
   ],
   "source": [
    "df.size"
   ]
  },
  {
   "cell_type": "markdown",
   "metadata": {},
   "source": [
    "# EDA"
   ]
  },
  {
   "cell_type": "markdown",
   "metadata": {},
   "source": [
    "## Null Handling"
   ]
  },
  {
   "cell_type": "code",
   "execution_count": 23,
   "metadata": {},
   "outputs": [
    {
     "name": "stdout",
     "output_type": "stream",
     "text": [
      "Finding nulls per column\n"
     ]
    },
    {
     "data": {
      "text/plain": [
       "Unnamed: 0                           False\n",
       "legId                                False\n",
       "searchDate                           False\n",
       "flightDate                           False\n",
       "startingAirport                      False\n",
       "destinationAirport                   False\n",
       "fareBasisCode                        False\n",
       "travelDuration                       False\n",
       "elapsedDays                          False\n",
       "isBasicEconomy                       False\n",
       "isRefundable                         False\n",
       "isNonStop                            False\n",
       "baseFare                             False\n",
       "totalFare                            False\n",
       "seatsRemaining                       False\n",
       "totalTravelDistance                   True\n",
       "segmentsDepartureTimeEpochSeconds    False\n",
       "segmentsDepartureTimeRaw             False\n",
       "segmentsArrivalTimeEpochSeconds      False\n",
       "segmentsArrivalTimeRaw               False\n",
       "segmentsArrivalAirportCode           False\n",
       "segmentsDepartureAirportCode         False\n",
       "segmentsAirlineName                  False\n",
       "segmentsAirlineCode                  False\n",
       "segmentsEquipmentDescription          True\n",
       "segmentsDurationInSeconds            False\n",
       "segmentsDistance                      True\n",
       "segmentsCabinCode                    False\n",
       "dtype: bool"
      ]
     },
     "execution_count": 23,
     "metadata": {},
     "output_type": "execute_result"
    }
   ],
   "source": [
    "print(\"Finding nulls per column\")\n",
    "df.isnull().any()"
   ]
  },
  {
   "cell_type": "markdown",
   "metadata": {},
   "source": [
    "Above, we find that `totalTravelDistance`, `segmentsEquipmentDescription`, and `segmentsDistance` contain nulls. Now, let's see the information on these columns in particular. "
   ]
  },
  {
   "cell_type": "code",
   "execution_count": 26,
   "metadata": {},
   "outputs": [
    {
     "name": "stdout",
     "output_type": "stream",
     "text": [
      "Observing null columns\n"
     ]
    },
    {
     "data": {
      "text/html": [
       "<div>\n",
       "<style scoped>\n",
       "    .dataframe tbody tr th:only-of-type {\n",
       "        vertical-align: middle;\n",
       "    }\n",
       "\n",
       "    .dataframe tbody tr th {\n",
       "        vertical-align: top;\n",
       "    }\n",
       "\n",
       "    .dataframe thead th {\n",
       "        text-align: right;\n",
       "    }\n",
       "</style>\n",
       "<table border=\"1\" class=\"dataframe\">\n",
       "  <thead>\n",
       "    <tr style=\"text-align: right;\">\n",
       "      <th></th>\n",
       "      <th>totalTravelDistance</th>\n",
       "      <th>segmentsEquipmentDescription</th>\n",
       "      <th>segmentsDistance</th>\n",
       "    </tr>\n",
       "  </thead>\n",
       "  <tbody>\n",
       "    <tr>\n",
       "      <th>0</th>\n",
       "      <td>947.0</td>\n",
       "      <td>NaN</td>\n",
       "      <td>947</td>\n",
       "    </tr>\n",
       "    <tr>\n",
       "      <th>1</th>\n",
       "      <td>947.0</td>\n",
       "      <td>NaN</td>\n",
       "      <td>947</td>\n",
       "    </tr>\n",
       "    <tr>\n",
       "      <th>2</th>\n",
       "      <td>1675.0</td>\n",
       "      <td>||Embraer 190</td>\n",
       "      <td>947||728</td>\n",
       "    </tr>\n",
       "    <tr>\n",
       "      <th>3</th>\n",
       "      <td>1247.0</td>\n",
       "      <td>Embraer 190||Embraer 190</td>\n",
       "      <td>762||485</td>\n",
       "    </tr>\n",
       "    <tr>\n",
       "      <th>4</th>\n",
       "      <td>762.0</td>\n",
       "      <td>Embraer 190</td>\n",
       "      <td>762</td>\n",
       "    </tr>\n",
       "  </tbody>\n",
       "</table>\n",
       "</div>"
      ],
      "text/plain": [
       "   totalTravelDistance segmentsEquipmentDescription segmentsDistance\n",
       "0                947.0                          NaN              947\n",
       "1                947.0                          NaN              947\n",
       "2               1675.0                ||Embraer 190         947||728\n",
       "3               1247.0     Embraer 190||Embraer 190         762||485\n",
       "4                762.0                  Embraer 190              762"
      ]
     },
     "execution_count": 26,
     "metadata": {},
     "output_type": "execute_result"
    }
   ],
   "source": [
    "print(\"Observing null columns\")\n",
    "df[[\"totalTravelDistance\", \"segmentsEquipmentDescription\", \"segmentsDistance\"]].head()"
   ]
  },
  {
   "cell_type": "markdown",
   "metadata": {},
   "source": [
    "<a id='questions_1'></a>"
   ]
  },
  {
   "cell_type": "markdown",
   "metadata": {},
   "source": [
    "The information above showcases distances and types of aircraft. This information could be important in building a model that can use different features to ultimately predict price. However, some of this information may also contribute nothing more than bloat to a model. Some questions that come to mind:\n",
    "\n",
    "- <font color=\"green\">[CLOSED]</font> what is the difference between `totalTravelDistance` and `segmentsDistance`?\n",
    "    -  per the dictionary: `totalTravelDistance` is the total distance traveled in miles. It's reported by the dataset author that some of this data may be missing. The `segmentsDistance` is the distance in miles for each leg of the trip. \n",
    "- <font color=\"red\">[OPEN]</font> will an end-product tremendously benefit from the knowledge of the kind of aircraft found in `segmentsEquipmentDescription`?\n",
    "    - not truly sure when we can determine if this will be useful or not for a model. "
   ]
  },
  {
   "cell_type": "code",
   "execution_count": 25,
   "metadata": {},
   "outputs": [
    {
     "data": {
      "text/plain": [
       "Unnamed: 0                               0\n",
       "legId                                    0\n",
       "searchDate                               0\n",
       "flightDate                               0\n",
       "startingAirport                          0\n",
       "destinationAirport                       0\n",
       "fareBasisCode                            0\n",
       "travelDuration                           0\n",
       "elapsedDays                              0\n",
       "isBasicEconomy                           0\n",
       "isRefundable                             0\n",
       "isNonStop                                0\n",
       "baseFare                                 0\n",
       "totalFare                                0\n",
       "seatsRemaining                           0\n",
       "totalTravelDistance                  56436\n",
       "segmentsDepartureTimeEpochSeconds        0\n",
       "segmentsDepartureTimeRaw                 0\n",
       "segmentsArrivalTimeEpochSeconds          0\n",
       "segmentsArrivalTimeRaw                   0\n",
       "segmentsArrivalAirportCode               0\n",
       "segmentsDepartureAirportCode             0\n",
       "segmentsAirlineName                      0\n",
       "segmentsAirlineCode                      0\n",
       "segmentsEquipmentDescription         52443\n",
       "segmentsDurationInSeconds                0\n",
       "segmentsDistance                     19469\n",
       "segmentsCabinCode                        0\n",
       "dtype: int64"
      ]
     },
     "metadata": {},
     "output_type": "display_data"
    },
    {
     "name": "stdout",
     "output_type": "stream",
     "text": [
      "0.8269689527638898\n",
      "0.7684586574136486\n",
      "0.2852834811354485\n"
     ]
    }
   ],
   "source": [
    "null_col_sums = df.isna().sum()\n",
    "display(null_col_sums)\n",
    "null_numerators = [x for x in null_col_sums if x!= 0]\n",
    "\n",
    "denominator = df.shape[0] #we are using the shape tuple to pull in the total rows to accurately understand how much is missing on a grand perspective\n",
    "\n",
    "for null_numerator in null_numerators:\n",
    "    print((null_numerator/denominator)*100)"
   ]
  },
  {
   "cell_type": "markdown",
   "metadata": {},
   "source": [
    "The biggest offender of nulls is the `totalTravelDistance` column, where ~0.83% of this column contains nulls.\n",
    "\n",
    "Here is when we looked at the data dictionary and were able to address more information on this column. Thus, we were able to also simultaneously address the first question found in [the previous cell housing some initial questions](#questions_1)\n",
    "\n",
    "Per the linked cell written in this current cell, it is expected that this column contains missing values. However, we do not know why. \n",
    "\n",
    "The next step will focus on some of these instances where `totalTravelDistance` is null. Furthermore, we should note if `segmentsDistance` is also null in these areas. There may be a possibility where the segments feature might have the information missing in the total distance feature or vice versa. Or they both will be null together where appropriate. "
   ]
  },
  {
   "cell_type": "code",
   "execution_count": 12,
   "metadata": {},
   "outputs": [
    {
     "name": "stdout",
     "output_type": "stream",
     "text": [
      "Where totalTravelDistance is null\n"
     ]
    },
    {
     "data": {
      "text/html": [
       "<div>\n",
       "<style scoped>\n",
       "    .dataframe tbody tr th:only-of-type {\n",
       "        vertical-align: middle;\n",
       "    }\n",
       "\n",
       "    .dataframe tbody tr th {\n",
       "        vertical-align: top;\n",
       "    }\n",
       "\n",
       "    .dataframe thead th {\n",
       "        text-align: right;\n",
       "    }\n",
       "</style>\n",
       "<table border=\"1\" class=\"dataframe\">\n",
       "  <thead>\n",
       "    <tr style=\"text-align: right;\">\n",
       "      <th></th>\n",
       "      <th>totalTravelDistance</th>\n",
       "      <th>segmentsDistance</th>\n",
       "    </tr>\n",
       "  </thead>\n",
       "  <tbody>\n",
       "    <tr>\n",
       "      <th>15</th>\n",
       "      <td>NaN</td>\n",
       "      <td>None||None</td>\n",
       "    </tr>\n",
       "    <tr>\n",
       "      <th>25</th>\n",
       "      <td>NaN</td>\n",
       "      <td>None||None</td>\n",
       "    </tr>\n",
       "    <tr>\n",
       "      <th>61</th>\n",
       "      <td>NaN</td>\n",
       "      <td>None||None</td>\n",
       "    </tr>\n",
       "    <tr>\n",
       "      <th>91</th>\n",
       "      <td>NaN</td>\n",
       "      <td>None||None</td>\n",
       "    </tr>\n",
       "    <tr>\n",
       "      <th>92</th>\n",
       "      <td>NaN</td>\n",
       "      <td>None||None</td>\n",
       "    </tr>\n",
       "  </tbody>\n",
       "</table>\n",
       "</div>"
      ],
      "text/plain": [
       "    totalTravelDistance segmentsDistance\n",
       "15                  NaN       None||None\n",
       "25                  NaN       None||None\n",
       "61                  NaN       None||None\n",
       "91                  NaN       None||None\n",
       "92                  NaN       None||None"
      ]
     },
     "metadata": {},
     "output_type": "display_data"
    },
    {
     "name": "stdout",
     "output_type": "stream",
     "text": [
      "Where segmentsDistance is null\n"
     ]
    },
    {
     "data": {
      "text/html": [
       "<div>\n",
       "<style scoped>\n",
       "    .dataframe tbody tr th:only-of-type {\n",
       "        vertical-align: middle;\n",
       "    }\n",
       "\n",
       "    .dataframe tbody tr th {\n",
       "        vertical-align: top;\n",
       "    }\n",
       "\n",
       "    .dataframe thead th {\n",
       "        text-align: right;\n",
       "    }\n",
       "</style>\n",
       "<table border=\"1\" class=\"dataframe\">\n",
       "  <thead>\n",
       "    <tr style=\"text-align: right;\">\n",
       "      <th></th>\n",
       "      <th>totalTravelDistance</th>\n",
       "      <th>segmentsDistance</th>\n",
       "    </tr>\n",
       "  </thead>\n",
       "  <tbody>\n",
       "    <tr>\n",
       "      <th>95</th>\n",
       "      <td>NaN</td>\n",
       "      <td>NaN</td>\n",
       "    </tr>\n",
       "    <tr>\n",
       "      <th>130</th>\n",
       "      <td>NaN</td>\n",
       "      <td>NaN</td>\n",
       "    </tr>\n",
       "    <tr>\n",
       "      <th>131</th>\n",
       "      <td>NaN</td>\n",
       "      <td>NaN</td>\n",
       "    </tr>\n",
       "    <tr>\n",
       "      <th>207</th>\n",
       "      <td>NaN</td>\n",
       "      <td>NaN</td>\n",
       "    </tr>\n",
       "    <tr>\n",
       "      <th>208</th>\n",
       "      <td>NaN</td>\n",
       "      <td>NaN</td>\n",
       "    </tr>\n",
       "  </tbody>\n",
       "</table>\n",
       "</div>"
      ],
      "text/plain": [
       "     totalTravelDistance segmentsDistance\n",
       "95                   NaN              NaN\n",
       "130                  NaN              NaN\n",
       "131                  NaN              NaN\n",
       "207                  NaN              NaN\n",
       "208                  NaN              NaN"
      ]
     },
     "metadata": {},
     "output_type": "display_data"
    },
    {
     "name": "stdout",
     "output_type": "stream",
     "text": [
      "Where segmentsDistance and totalTravelDistance is null\n"
     ]
    },
    {
     "data": {
      "text/html": [
       "<div>\n",
       "<style scoped>\n",
       "    .dataframe tbody tr th:only-of-type {\n",
       "        vertical-align: middle;\n",
       "    }\n",
       "\n",
       "    .dataframe tbody tr th {\n",
       "        vertical-align: top;\n",
       "    }\n",
       "\n",
       "    .dataframe thead th {\n",
       "        text-align: right;\n",
       "    }\n",
       "</style>\n",
       "<table border=\"1\" class=\"dataframe\">\n",
       "  <thead>\n",
       "    <tr style=\"text-align: right;\">\n",
       "      <th></th>\n",
       "      <th>totalTravelDistance</th>\n",
       "      <th>segmentsDistance</th>\n",
       "    </tr>\n",
       "  </thead>\n",
       "  <tbody>\n",
       "    <tr>\n",
       "      <th>95</th>\n",
       "      <td>NaN</td>\n",
       "      <td>NaN</td>\n",
       "    </tr>\n",
       "    <tr>\n",
       "      <th>130</th>\n",
       "      <td>NaN</td>\n",
       "      <td>NaN</td>\n",
       "    </tr>\n",
       "    <tr>\n",
       "      <th>131</th>\n",
       "      <td>NaN</td>\n",
       "      <td>NaN</td>\n",
       "    </tr>\n",
       "    <tr>\n",
       "      <th>207</th>\n",
       "      <td>NaN</td>\n",
       "      <td>NaN</td>\n",
       "    </tr>\n",
       "    <tr>\n",
       "      <th>208</th>\n",
       "      <td>NaN</td>\n",
       "      <td>NaN</td>\n",
       "    </tr>\n",
       "  </tbody>\n",
       "</table>\n",
       "</div>"
      ],
      "text/plain": [
       "     totalTravelDistance segmentsDistance\n",
       "95                   NaN              NaN\n",
       "130                  NaN              NaN\n",
       "131                  NaN              NaN\n",
       "207                  NaN              NaN\n",
       "208                  NaN              NaN"
      ]
     },
     "metadata": {},
     "output_type": "display_data"
    }
   ],
   "source": [
    "#looking at when `totalTravelDistance` is null\n",
    "print(\"Where totalTravelDistance is null\")\n",
    "df_but_null_total_dist = df[\n",
    "    df[\"totalTravelDistance\"].isnull()\n",
    "][[\"totalTravelDistance\", \"segmentsDistance\"]]\n",
    "display(df_but_null_total_dist.head())\n",
    "\n",
    "\n",
    "#looking at when `segmentsDistance` is null\n",
    "print(\"Where segmentsDistance is null\")\n",
    "df_but_null_segment_dist = df[\n",
    "    df[\"segmentsDistance\"].isnull()\n",
    "][[\"totalTravelDistance\", \"segmentsDistance\"]]\n",
    "display(df_but_null_segment_dist.head())\n",
    "\n",
    "\n",
    "#looking at when `segmentsDistanc` and `totalTravelDistance` is null\n",
    "print(\"Where segmentsDistance and totalTravelDistance is null\")\n",
    "df_but_null_total_and_segment_dist = df[\n",
    "    (df[\"segmentsDistance\"].isnull()) & \n",
    "    (df[\"segmentsDistance\"].isnull())\n",
    "][[\"totalTravelDistance\", \"segmentsDistance\"]]\n",
    "display(df_but_null_total_and_segment_dist.head())"
   ]
  },
  {
   "cell_type": "markdown",
   "metadata": {},
   "source": [
    "Some quick takeaways...\n",
    "- `segmentsDistance` possesses variables that can be labeled as \"None||None\" or be labeled as `NaN`. Hypothesis is that the variables labeled as \"None||None\" are recognized as proper strings with sensible reason. Meanwhile `NaN`s are truly unknown. \n",
    "- there is some evidence to suggest that if `segmentsDistance` is `NaN`, then the total distance column will also contain a `NaN`.\n",
    "    - this is testable by looking up the distinct combinations and providing counts on such for these. \n",
    "\n",
    "\n",
    "It is also important to note that we have not yet addressed the other equipment column showcasing the airplane type. "
   ]
  },
  {
   "cell_type": "markdown",
   "metadata": {},
   "source": []
  },
  {
   "cell_type": "markdown",
   "metadata": {},
   "source": []
  },
  {
   "cell_type": "markdown",
   "metadata": {},
   "source": []
  },
  {
   "cell_type": "markdown",
   "metadata": {},
   "source": []
  }
 ],
 "metadata": {
  "kernelspec": {
   "display_name": "Python 3 (ipykernel)",
   "language": "python",
   "name": "python3"
  },
  "language_info": {
   "codemirror_mode": {
    "name": "ipython",
    "version": 3
   },
   "file_extension": ".py",
   "mimetype": "text/x-python",
   "name": "python",
   "nbconvert_exporter": "python",
   "pygments_lexer": "ipython3",
   "version": "3.11.4"
  }
 },
 "nbformat": 4,
 "nbformat_minor": 2
}
