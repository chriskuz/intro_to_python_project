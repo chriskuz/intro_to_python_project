{
 "cells": [
  {
   "cell_type": "code",
   "execution_count": 1,
   "metadata": {},
   "outputs": [],
   "source": [
    "import pandas as pd\n",
    "import numpy as np"
   ]
  },
  {
   "cell_type": "markdown",
   "metadata": {},
   "source": [
    "# Purpose\n",
    "\n",
    "Author: Chris Kuzemka\n",
    "\n",
    "The purpose of this notebook is to check what is housed inside the kaggle dataset of flight itineraries. The dataset is a large and computationally expensive. It can be downloaded [here](https://www.kaggle.com/datasets/dilwong/flightprices/data). \n",
    "\n",
    "Details and a report going over what is found will be placed here as well as a summary of what to clean and change. "
   ]
  },
  {
   "cell_type": "markdown",
   "metadata": {},
   "source": [
    "# Data"
   ]
  },
  {
   "cell_type": "code",
   "execution_count": 3,
   "metadata": {},
   "outputs": [],
   "source": [
    "# do this to show all the columns....note setting None means there are no restrictions on any of this. \n",
    "pd.set_option(\"display.max_columns\", None)"
   ]
  },
  {
   "cell_type": "code",
   "execution_count": 3,
   "metadata": {},
   "outputs": [],
   "source": [
    "df = pd.read_csv(\"../data/jetblue_df.csv\")"
   ]
  },
  {
   "cell_type": "code",
   "execution_count": 13,
   "metadata": {},
   "outputs": [
    {
     "data": {
      "text/html": [
       "<div>\n",
       "<style scoped>\n",
       "    .dataframe tbody tr th:only-of-type {\n",
       "        vertical-align: middle;\n",
       "    }\n",
       "\n",
       "    .dataframe tbody tr th {\n",
       "        vertical-align: top;\n",
       "    }\n",
       "\n",
       "    .dataframe thead th {\n",
       "        text-align: right;\n",
       "    }\n",
       "</style>\n",
       "<table border=\"1\" class=\"dataframe\">\n",
       "  <thead>\n",
       "    <tr style=\"text-align: right;\">\n",
       "      <th></th>\n",
       "      <th>legId</th>\n",
       "      <th>searchDate</th>\n",
       "      <th>flightDate</th>\n",
       "      <th>startingAirport</th>\n",
       "      <th>destinationAirport</th>\n",
       "      <th>fareBasisCode</th>\n",
       "      <th>travelDuration</th>\n",
       "      <th>elapsedDays</th>\n",
       "      <th>isBasicEconomy</th>\n",
       "      <th>isRefundable</th>\n",
       "      <th>isNonStop</th>\n",
       "      <th>baseFare</th>\n",
       "      <th>totalFare</th>\n",
       "      <th>seatsRemaining</th>\n",
       "      <th>totalTravelDistance</th>\n",
       "      <th>segmentsDepartureTimeEpochSeconds</th>\n",
       "      <th>segmentsDepartureTimeRaw</th>\n",
       "      <th>segmentsArrivalTimeEpochSeconds</th>\n",
       "      <th>segmentsArrivalTimeRaw</th>\n",
       "      <th>segmentsArrivalAirportCode</th>\n",
       "      <th>segmentsDepartureAirportCode</th>\n",
       "      <th>segmentsAirlineName</th>\n",
       "      <th>segmentsAirlineCode</th>\n",
       "      <th>segmentsEquipmentDescription</th>\n",
       "      <th>segmentsDurationInSeconds</th>\n",
       "      <th>segmentsDistance</th>\n",
       "      <th>segmentsCabinCode</th>\n",
       "    </tr>\n",
       "  </thead>\n",
       "  <tbody>\n",
       "    <tr>\n",
       "      <th>0</th>\n",
       "      <td>9ca0e81111c683bec1012473feefd28f</td>\n",
       "      <td>2022-04-16</td>\n",
       "      <td>2022-04-17</td>\n",
       "      <td>ATL</td>\n",
       "      <td>BOS</td>\n",
       "      <td>LA0NX0MC</td>\n",
       "      <td>PT2H29M</td>\n",
       "      <td>0</td>\n",
       "      <td>False</td>\n",
       "      <td>False</td>\n",
       "      <td>True</td>\n",
       "      <td>217.67</td>\n",
       "      <td>248.6</td>\n",
       "      <td>9</td>\n",
       "      <td>947.0</td>\n",
       "      <td>1650214620</td>\n",
       "      <td>2022-04-17T12:57:00.000-04:00</td>\n",
       "      <td>1650223560</td>\n",
       "      <td>2022-04-17T15:26:00.000-04:00</td>\n",
       "      <td>BOS</td>\n",
       "      <td>ATL</td>\n",
       "      <td>Delta</td>\n",
       "      <td>DL</td>\n",
       "      <td>Airbus A321</td>\n",
       "      <td>8940</td>\n",
       "      <td>947</td>\n",
       "      <td>coach</td>\n",
       "    </tr>\n",
       "    <tr>\n",
       "      <th>1</th>\n",
       "      <td>98685953630e772a098941b71906592b</td>\n",
       "      <td>2022-04-16</td>\n",
       "      <td>2022-04-17</td>\n",
       "      <td>ATL</td>\n",
       "      <td>BOS</td>\n",
       "      <td>LA0NX0MC</td>\n",
       "      <td>PT2H30M</td>\n",
       "      <td>0</td>\n",
       "      <td>False</td>\n",
       "      <td>False</td>\n",
       "      <td>True</td>\n",
       "      <td>217.67</td>\n",
       "      <td>248.6</td>\n",
       "      <td>4</td>\n",
       "      <td>947.0</td>\n",
       "      <td>1650191400</td>\n",
       "      <td>2022-04-17T06:30:00.000-04:00</td>\n",
       "      <td>1650200400</td>\n",
       "      <td>2022-04-17T09:00:00.000-04:00</td>\n",
       "      <td>BOS</td>\n",
       "      <td>ATL</td>\n",
       "      <td>Delta</td>\n",
       "      <td>DL</td>\n",
       "      <td>Airbus A321</td>\n",
       "      <td>9000</td>\n",
       "      <td>947</td>\n",
       "      <td>coach</td>\n",
       "    </tr>\n",
       "    <tr>\n",
       "      <th>2</th>\n",
       "      <td>98d90cbc32bfbb05c2fc32897c7c1087</td>\n",
       "      <td>2022-04-16</td>\n",
       "      <td>2022-04-17</td>\n",
       "      <td>ATL</td>\n",
       "      <td>BOS</td>\n",
       "      <td>LA0NX0MC</td>\n",
       "      <td>PT2H30M</td>\n",
       "      <td>0</td>\n",
       "      <td>False</td>\n",
       "      <td>False</td>\n",
       "      <td>True</td>\n",
       "      <td>217.67</td>\n",
       "      <td>248.6</td>\n",
       "      <td>9</td>\n",
       "      <td>947.0</td>\n",
       "      <td>1650209700</td>\n",
       "      <td>2022-04-17T11:35:00.000-04:00</td>\n",
       "      <td>1650218700</td>\n",
       "      <td>2022-04-17T14:05:00.000-04:00</td>\n",
       "      <td>BOS</td>\n",
       "      <td>ATL</td>\n",
       "      <td>Delta</td>\n",
       "      <td>DL</td>\n",
       "      <td>Boeing 757-200</td>\n",
       "      <td>9000</td>\n",
       "      <td>947</td>\n",
       "      <td>coach</td>\n",
       "    </tr>\n",
       "    <tr>\n",
       "      <th>3</th>\n",
       "      <td>969a269d38eae583f455486fa90877b4</td>\n",
       "      <td>2022-04-16</td>\n",
       "      <td>2022-04-17</td>\n",
       "      <td>ATL</td>\n",
       "      <td>BOS</td>\n",
       "      <td>LA0NX0MC</td>\n",
       "      <td>PT2H32M</td>\n",
       "      <td>0</td>\n",
       "      <td>False</td>\n",
       "      <td>False</td>\n",
       "      <td>True</td>\n",
       "      <td>217.67</td>\n",
       "      <td>248.6</td>\n",
       "      <td>8</td>\n",
       "      <td>947.0</td>\n",
       "      <td>1650218340</td>\n",
       "      <td>2022-04-17T13:59:00.000-04:00</td>\n",
       "      <td>1650227460</td>\n",
       "      <td>2022-04-17T16:31:00.000-04:00</td>\n",
       "      <td>BOS</td>\n",
       "      <td>ATL</td>\n",
       "      <td>Delta</td>\n",
       "      <td>DL</td>\n",
       "      <td>Airbus A321</td>\n",
       "      <td>9120</td>\n",
       "      <td>947</td>\n",
       "      <td>coach</td>\n",
       "    </tr>\n",
       "    <tr>\n",
       "      <th>4</th>\n",
       "      <td>980370cf27c89b40d2833a1d5afc9751</td>\n",
       "      <td>2022-04-16</td>\n",
       "      <td>2022-04-17</td>\n",
       "      <td>ATL</td>\n",
       "      <td>BOS</td>\n",
       "      <td>LA0NX0MC</td>\n",
       "      <td>PT2H34M</td>\n",
       "      <td>0</td>\n",
       "      <td>False</td>\n",
       "      <td>False</td>\n",
       "      <td>True</td>\n",
       "      <td>217.67</td>\n",
       "      <td>248.6</td>\n",
       "      <td>9</td>\n",
       "      <td>947.0</td>\n",
       "      <td>1650203940</td>\n",
       "      <td>2022-04-17T09:59:00.000-04:00</td>\n",
       "      <td>1650213180</td>\n",
       "      <td>2022-04-17T12:33:00.000-04:00</td>\n",
       "      <td>BOS</td>\n",
       "      <td>ATL</td>\n",
       "      <td>Delta</td>\n",
       "      <td>DL</td>\n",
       "      <td>Airbus A321</td>\n",
       "      <td>9240</td>\n",
       "      <td>947</td>\n",
       "      <td>coach</td>\n",
       "    </tr>\n",
       "  </tbody>\n",
       "</table>\n",
       "</div>"
      ],
      "text/plain": [
       "                              legId  searchDate  flightDate startingAirport  \\\n",
       "0  9ca0e81111c683bec1012473feefd28f  2022-04-16  2022-04-17             ATL   \n",
       "1  98685953630e772a098941b71906592b  2022-04-16  2022-04-17             ATL   \n",
       "2  98d90cbc32bfbb05c2fc32897c7c1087  2022-04-16  2022-04-17             ATL   \n",
       "3  969a269d38eae583f455486fa90877b4  2022-04-16  2022-04-17             ATL   \n",
       "4  980370cf27c89b40d2833a1d5afc9751  2022-04-16  2022-04-17             ATL   \n",
       "\n",
       "  destinationAirport fareBasisCode travelDuration  elapsedDays  \\\n",
       "0                BOS      LA0NX0MC        PT2H29M            0   \n",
       "1                BOS      LA0NX0MC        PT2H30M            0   \n",
       "2                BOS      LA0NX0MC        PT2H30M            0   \n",
       "3                BOS      LA0NX0MC        PT2H32M            0   \n",
       "4                BOS      LA0NX0MC        PT2H34M            0   \n",
       "\n",
       "   isBasicEconomy  isRefundable  isNonStop  baseFare  totalFare  \\\n",
       "0           False         False       True    217.67      248.6   \n",
       "1           False         False       True    217.67      248.6   \n",
       "2           False         False       True    217.67      248.6   \n",
       "3           False         False       True    217.67      248.6   \n",
       "4           False         False       True    217.67      248.6   \n",
       "\n",
       "   seatsRemaining  totalTravelDistance segmentsDepartureTimeEpochSeconds  \\\n",
       "0               9                947.0                        1650214620   \n",
       "1               4                947.0                        1650191400   \n",
       "2               9                947.0                        1650209700   \n",
       "3               8                947.0                        1650218340   \n",
       "4               9                947.0                        1650203940   \n",
       "\n",
       "        segmentsDepartureTimeRaw segmentsArrivalTimeEpochSeconds  \\\n",
       "0  2022-04-17T12:57:00.000-04:00                      1650223560   \n",
       "1  2022-04-17T06:30:00.000-04:00                      1650200400   \n",
       "2  2022-04-17T11:35:00.000-04:00                      1650218700   \n",
       "3  2022-04-17T13:59:00.000-04:00                      1650227460   \n",
       "4  2022-04-17T09:59:00.000-04:00                      1650213180   \n",
       "\n",
       "          segmentsArrivalTimeRaw segmentsArrivalAirportCode  \\\n",
       "0  2022-04-17T15:26:00.000-04:00                        BOS   \n",
       "1  2022-04-17T09:00:00.000-04:00                        BOS   \n",
       "2  2022-04-17T14:05:00.000-04:00                        BOS   \n",
       "3  2022-04-17T16:31:00.000-04:00                        BOS   \n",
       "4  2022-04-17T12:33:00.000-04:00                        BOS   \n",
       "\n",
       "  segmentsDepartureAirportCode segmentsAirlineName segmentsAirlineCode  \\\n",
       "0                          ATL               Delta                  DL   \n",
       "1                          ATL               Delta                  DL   \n",
       "2                          ATL               Delta                  DL   \n",
       "3                          ATL               Delta                  DL   \n",
       "4                          ATL               Delta                  DL   \n",
       "\n",
       "  segmentsEquipmentDescription segmentsDurationInSeconds segmentsDistance  \\\n",
       "0                  Airbus A321                      8940              947   \n",
       "1                  Airbus A321                      9000              947   \n",
       "2               Boeing 757-200                      9000              947   \n",
       "3                  Airbus A321                      9120              947   \n",
       "4                  Airbus A321                      9240              947   \n",
       "\n",
       "  segmentsCabinCode  \n",
       "0             coach  \n",
       "1             coach  \n",
       "2             coach  \n",
       "3             coach  \n",
       "4             coach  "
      ]
     },
     "execution_count": 13,
     "metadata": {},
     "output_type": "execute_result"
    }
   ],
   "source": [
    "df.head()"
   ]
  },
  {
   "cell_type": "code",
   "execution_count": 14,
   "metadata": {},
   "outputs": [
    {
     "data": {
      "text/plain": [
       "['baseFare',\n",
       " 'destinationAirport',\n",
       " 'elapsedDays',\n",
       " 'fareBasisCode',\n",
       " 'flightDate',\n",
       " 'isBasicEconomy',\n",
       " 'isNonStop',\n",
       " 'isRefundable',\n",
       " 'legId',\n",
       " 'searchDate',\n",
       " 'seatsRemaining',\n",
       " 'segmentsAirlineCode',\n",
       " 'segmentsAirlineName',\n",
       " 'segmentsArrivalAirportCode',\n",
       " 'segmentsArrivalTimeEpochSeconds',\n",
       " 'segmentsArrivalTimeRaw',\n",
       " 'segmentsCabinCode',\n",
       " 'segmentsDepartureAirportCode',\n",
       " 'segmentsDepartureTimeEpochSeconds',\n",
       " 'segmentsDepartureTimeRaw',\n",
       " 'segmentsDistance',\n",
       " 'segmentsDurationInSeconds',\n",
       " 'segmentsEquipmentDescription',\n",
       " 'startingAirport',\n",
       " 'totalFare',\n",
       " 'totalTravelDistance',\n",
       " 'travelDuration']"
      ]
     },
     "execution_count": 14,
     "metadata": {},
     "output_type": "execute_result"
    }
   ],
   "source": [
    "sorted(df.columns)"
   ]
  },
  {
   "cell_type": "code",
   "execution_count": 15,
   "metadata": {},
   "outputs": [
    {
     "data": {
      "text/plain": [
       "(82138753, 27)"
      ]
     },
     "execution_count": 15,
     "metadata": {},
     "output_type": "execute_result"
    }
   ],
   "source": [
    "df.shape"
   ]
  },
  {
   "cell_type": "code",
   "execution_count": 16,
   "metadata": {},
   "outputs": [
    {
     "data": {
      "text/plain": [
       "2217746331"
      ]
     },
     "execution_count": 16,
     "metadata": {},
     "output_type": "execute_result"
    }
   ],
   "source": [
    "df.size"
   ]
  },
  {
   "cell_type": "markdown",
   "metadata": {},
   "source": [
    "# EDA"
   ]
  },
  {
   "cell_type": "markdown",
   "metadata": {},
   "source": [
    "## Null Handling"
   ]
  },
  {
   "cell_type": "code",
   "execution_count": 9,
   "metadata": {},
   "outputs": [
    {
     "name": "stdout",
     "output_type": "stream",
     "text": [
      "Finding nulls per column\n"
     ]
    },
    {
     "data": {
      "text/plain": [
       "legId                                False\n",
       "searchDate                           False\n",
       "flightDate                           False\n",
       "startingAirport                      False\n",
       "destinationAirport                   False\n",
       "fareBasisCode                        False\n",
       "travelDuration                       False\n",
       "elapsedDays                          False\n",
       "isBasicEconomy                       False\n",
       "isRefundable                         False\n",
       "isNonStop                            False\n",
       "baseFare                             False\n",
       "totalFare                            False\n",
       "seatsRemaining                       False\n",
       "totalTravelDistance                   True\n",
       "segmentsDepartureTimeEpochSeconds    False\n",
       "segmentsDepartureTimeRaw             False\n",
       "segmentsArrivalTimeEpochSeconds      False\n",
       "segmentsArrivalTimeRaw               False\n",
       "segmentsArrivalAirportCode           False\n",
       "segmentsDepartureAirportCode         False\n",
       "segmentsAirlineName                  False\n",
       "segmentsAirlineCode                  False\n",
       "segmentsEquipmentDescription          True\n",
       "segmentsDurationInSeconds            False\n",
       "segmentsDistance                      True\n",
       "segmentsCabinCode                    False\n",
       "dtype: bool"
      ]
     },
     "execution_count": 9,
     "metadata": {},
     "output_type": "execute_result"
    }
   ],
   "source": [
    "print(\"Finding nulls per column\")\n",
    "df.isnull().any()"
   ]
  },
  {
   "cell_type": "markdown",
   "metadata": {},
   "source": [
    "Above, we find that `totalTravelDistance`, `segmentsEquipmentDescription`, and `segmentsDistance` contain nulls. Now, let's see the information on these columns in particular. "
   ]
  },
  {
   "cell_type": "code",
   "execution_count": 10,
   "metadata": {},
   "outputs": [
    {
     "name": "stdout",
     "output_type": "stream",
     "text": [
      "Observing null columns\n"
     ]
    },
    {
     "data": {
      "text/html": [
       "<div>\n",
       "<style scoped>\n",
       "    .dataframe tbody tr th:only-of-type {\n",
       "        vertical-align: middle;\n",
       "    }\n",
       "\n",
       "    .dataframe tbody tr th {\n",
       "        vertical-align: top;\n",
       "    }\n",
       "\n",
       "    .dataframe thead th {\n",
       "        text-align: right;\n",
       "    }\n",
       "</style>\n",
       "<table border=\"1\" class=\"dataframe\">\n",
       "  <thead>\n",
       "    <tr style=\"text-align: right;\">\n",
       "      <th></th>\n",
       "      <th>totalTravelDistance</th>\n",
       "      <th>segmentsEquipmentDescription</th>\n",
       "      <th>segmentsDistance</th>\n",
       "    </tr>\n",
       "  </thead>\n",
       "  <tbody>\n",
       "    <tr>\n",
       "      <th>0</th>\n",
       "      <td>947.0</td>\n",
       "      <td>Airbus A321</td>\n",
       "      <td>947</td>\n",
       "    </tr>\n",
       "    <tr>\n",
       "      <th>1</th>\n",
       "      <td>947.0</td>\n",
       "      <td>Airbus A321</td>\n",
       "      <td>947</td>\n",
       "    </tr>\n",
       "    <tr>\n",
       "      <th>2</th>\n",
       "      <td>947.0</td>\n",
       "      <td>Boeing 757-200</td>\n",
       "      <td>947</td>\n",
       "    </tr>\n",
       "    <tr>\n",
       "      <th>3</th>\n",
       "      <td>947.0</td>\n",
       "      <td>Airbus A321</td>\n",
       "      <td>947</td>\n",
       "    </tr>\n",
       "    <tr>\n",
       "      <th>4</th>\n",
       "      <td>947.0</td>\n",
       "      <td>Airbus A321</td>\n",
       "      <td>947</td>\n",
       "    </tr>\n",
       "  </tbody>\n",
       "</table>\n",
       "</div>"
      ],
      "text/plain": [
       "   totalTravelDistance segmentsEquipmentDescription segmentsDistance\n",
       "0                947.0                  Airbus A321              947\n",
       "1                947.0                  Airbus A321              947\n",
       "2                947.0               Boeing 757-200              947\n",
       "3                947.0                  Airbus A321              947\n",
       "4                947.0                  Airbus A321              947"
      ]
     },
     "execution_count": 10,
     "metadata": {},
     "output_type": "execute_result"
    }
   ],
   "source": [
    "print(\"Observing null columns\")\n",
    "df[[\"totalTravelDistance\", \"segmentsEquipmentDescription\", \"segmentsDistance\"]].head()"
   ]
  },
  {
   "cell_type": "markdown",
   "metadata": {},
   "source": [
    "<a id='questions_1'></a>"
   ]
  },
  {
   "cell_type": "markdown",
   "metadata": {},
   "source": [
    "The information above showcases distances and types of aircraft. This information could be important in building a model that can use different features to ultimately predict price. However, some of this information may also contribute nothing more than bloat to a model. Some questions that come to mind:\n",
    "\n",
    "- <font color=\"green\">[CLOSED]</font> what is the difference between `totalTravelDistance` and `segmentsDistance`?\n",
    "    -  per the dictionary: `totalTravelDistance` is the total distance traveled in miles. It's reported by the dataset author that some of this data may be missing. The `segmentsDistance` is the distance in miles for each leg of the trip. \n",
    "- <font color=\"red\">[OPEN]</font> will an end-product tremendously benefit from the knowledge of the kind of aircraft found in `segmentsEquipmentDescription`?\n",
    "    - not truly sure when we can determine if this will be useful or not for a model. "
   ]
  },
  {
   "cell_type": "code",
   "execution_count": 11,
   "metadata": {},
   "outputs": [
    {
     "data": {
      "text/plain": [
       "legId                                      0\n",
       "searchDate                                 0\n",
       "flightDate                                 0\n",
       "startingAirport                            0\n",
       "destinationAirport                         0\n",
       "fareBasisCode                              0\n",
       "travelDuration                             0\n",
       "elapsedDays                                0\n",
       "isBasicEconomy                             0\n",
       "isRefundable                               0\n",
       "isNonStop                                  0\n",
       "baseFare                                   0\n",
       "totalFare                                  0\n",
       "seatsRemaining                             0\n",
       "totalTravelDistance                  6094532\n",
       "segmentsDepartureTimeEpochSeconds          0\n",
       "segmentsDepartureTimeRaw                   0\n",
       "segmentsArrivalTimeEpochSeconds            0\n",
       "segmentsArrivalTimeRaw                     0\n",
       "segmentsArrivalAirportCode                 0\n",
       "segmentsDepartureAirportCode               0\n",
       "segmentsAirlineName                        0\n",
       "segmentsAirlineCode                        0\n",
       "segmentsEquipmentDescription         1557592\n",
       "segmentsDurationInSeconds                  0\n",
       "segmentsDistance                      853219\n",
       "segmentsCabinCode                          0\n",
       "dtype: int64"
      ]
     },
     "metadata": {},
     "output_type": "display_data"
    },
    {
     "name": "stdout",
     "output_type": "stream",
     "text": [
      "7.419800979934527\n",
      "1.8962937019508928\n",
      "1.0387532910318227\n"
     ]
    }
   ],
   "source": [
    "null_col_sums = df.isna().sum()\n",
    "display(null_col_sums)\n",
    "null_numerators = [x for x in null_col_sums if x!= 0]\n",
    "\n",
    "denominator = df.shape[0] #we are using the shape tuple to pull in the total rows to accurately understand how much is missing on a grand perspective\n",
    "\n",
    "for null_numerator in null_numerators:\n",
    "    print((null_numerator/denominator)*100)"
   ]
  },
  {
   "cell_type": "markdown",
   "metadata": {},
   "source": [
    "The biggest offender of nulls is the `totalTravelDistance` column, where ~7.4% of this column contains nulls.\n",
    "\n",
    "Here is when we looked at the data dictionary and were able to address more information on this column. Thus, we were able to also simultaneously address the first question found in [the previous cell housing some initial questions](#questions_1)\n",
    "\n",
    "Per the linked cell written in this current cell, it is expected that this column contains missing values. However, we do not know why. \n",
    "\n",
    "The next step will focus on some of these instances where `totalTravelDistance` is null. Furthermore, we should note if `segmentsDistance` is also null in these areas. There may be a possibility where the segments feature might have the information missing in the total distance feature or vice versa. Or they both will be null together where appropriate. "
   ]
  },
  {
   "cell_type": "code",
   "execution_count": 12,
   "metadata": {},
   "outputs": [
    {
     "name": "stdout",
     "output_type": "stream",
     "text": [
      "Where totalTravelDistance is null\n"
     ]
    },
    {
     "data": {
      "text/html": [
       "<div>\n",
       "<style scoped>\n",
       "    .dataframe tbody tr th:only-of-type {\n",
       "        vertical-align: middle;\n",
       "    }\n",
       "\n",
       "    .dataframe tbody tr th {\n",
       "        vertical-align: top;\n",
       "    }\n",
       "\n",
       "    .dataframe thead th {\n",
       "        text-align: right;\n",
       "    }\n",
       "</style>\n",
       "<table border=\"1\" class=\"dataframe\">\n",
       "  <thead>\n",
       "    <tr style=\"text-align: right;\">\n",
       "      <th></th>\n",
       "      <th>totalTravelDistance</th>\n",
       "      <th>segmentsDistance</th>\n",
       "    </tr>\n",
       "  </thead>\n",
       "  <tbody>\n",
       "    <tr>\n",
       "      <th>15</th>\n",
       "      <td>NaN</td>\n",
       "      <td>None||None</td>\n",
       "    </tr>\n",
       "    <tr>\n",
       "      <th>25</th>\n",
       "      <td>NaN</td>\n",
       "      <td>None||None</td>\n",
       "    </tr>\n",
       "    <tr>\n",
       "      <th>61</th>\n",
       "      <td>NaN</td>\n",
       "      <td>None||None</td>\n",
       "    </tr>\n",
       "    <tr>\n",
       "      <th>91</th>\n",
       "      <td>NaN</td>\n",
       "      <td>None||None</td>\n",
       "    </tr>\n",
       "    <tr>\n",
       "      <th>92</th>\n",
       "      <td>NaN</td>\n",
       "      <td>None||None</td>\n",
       "    </tr>\n",
       "  </tbody>\n",
       "</table>\n",
       "</div>"
      ],
      "text/plain": [
       "    totalTravelDistance segmentsDistance\n",
       "15                  NaN       None||None\n",
       "25                  NaN       None||None\n",
       "61                  NaN       None||None\n",
       "91                  NaN       None||None\n",
       "92                  NaN       None||None"
      ]
     },
     "metadata": {},
     "output_type": "display_data"
    },
    {
     "name": "stdout",
     "output_type": "stream",
     "text": [
      "Where segmentsDistance is null\n"
     ]
    },
    {
     "data": {
      "text/html": [
       "<div>\n",
       "<style scoped>\n",
       "    .dataframe tbody tr th:only-of-type {\n",
       "        vertical-align: middle;\n",
       "    }\n",
       "\n",
       "    .dataframe tbody tr th {\n",
       "        vertical-align: top;\n",
       "    }\n",
       "\n",
       "    .dataframe thead th {\n",
       "        text-align: right;\n",
       "    }\n",
       "</style>\n",
       "<table border=\"1\" class=\"dataframe\">\n",
       "  <thead>\n",
       "    <tr style=\"text-align: right;\">\n",
       "      <th></th>\n",
       "      <th>totalTravelDistance</th>\n",
       "      <th>segmentsDistance</th>\n",
       "    </tr>\n",
       "  </thead>\n",
       "  <tbody>\n",
       "    <tr>\n",
       "      <th>95</th>\n",
       "      <td>NaN</td>\n",
       "      <td>NaN</td>\n",
       "    </tr>\n",
       "    <tr>\n",
       "      <th>130</th>\n",
       "      <td>NaN</td>\n",
       "      <td>NaN</td>\n",
       "    </tr>\n",
       "    <tr>\n",
       "      <th>131</th>\n",
       "      <td>NaN</td>\n",
       "      <td>NaN</td>\n",
       "    </tr>\n",
       "    <tr>\n",
       "      <th>207</th>\n",
       "      <td>NaN</td>\n",
       "      <td>NaN</td>\n",
       "    </tr>\n",
       "    <tr>\n",
       "      <th>208</th>\n",
       "      <td>NaN</td>\n",
       "      <td>NaN</td>\n",
       "    </tr>\n",
       "  </tbody>\n",
       "</table>\n",
       "</div>"
      ],
      "text/plain": [
       "     totalTravelDistance segmentsDistance\n",
       "95                   NaN              NaN\n",
       "130                  NaN              NaN\n",
       "131                  NaN              NaN\n",
       "207                  NaN              NaN\n",
       "208                  NaN              NaN"
      ]
     },
     "metadata": {},
     "output_type": "display_data"
    },
    {
     "name": "stdout",
     "output_type": "stream",
     "text": [
      "Where segmentsDistance and totalTravelDistance is null\n"
     ]
    },
    {
     "data": {
      "text/html": [
       "<div>\n",
       "<style scoped>\n",
       "    .dataframe tbody tr th:only-of-type {\n",
       "        vertical-align: middle;\n",
       "    }\n",
       "\n",
       "    .dataframe tbody tr th {\n",
       "        vertical-align: top;\n",
       "    }\n",
       "\n",
       "    .dataframe thead th {\n",
       "        text-align: right;\n",
       "    }\n",
       "</style>\n",
       "<table border=\"1\" class=\"dataframe\">\n",
       "  <thead>\n",
       "    <tr style=\"text-align: right;\">\n",
       "      <th></th>\n",
       "      <th>totalTravelDistance</th>\n",
       "      <th>segmentsDistance</th>\n",
       "    </tr>\n",
       "  </thead>\n",
       "  <tbody>\n",
       "    <tr>\n",
       "      <th>95</th>\n",
       "      <td>NaN</td>\n",
       "      <td>NaN</td>\n",
       "    </tr>\n",
       "    <tr>\n",
       "      <th>130</th>\n",
       "      <td>NaN</td>\n",
       "      <td>NaN</td>\n",
       "    </tr>\n",
       "    <tr>\n",
       "      <th>131</th>\n",
       "      <td>NaN</td>\n",
       "      <td>NaN</td>\n",
       "    </tr>\n",
       "    <tr>\n",
       "      <th>207</th>\n",
       "      <td>NaN</td>\n",
       "      <td>NaN</td>\n",
       "    </tr>\n",
       "    <tr>\n",
       "      <th>208</th>\n",
       "      <td>NaN</td>\n",
       "      <td>NaN</td>\n",
       "    </tr>\n",
       "  </tbody>\n",
       "</table>\n",
       "</div>"
      ],
      "text/plain": [
       "     totalTravelDistance segmentsDistance\n",
       "95                   NaN              NaN\n",
       "130                  NaN              NaN\n",
       "131                  NaN              NaN\n",
       "207                  NaN              NaN\n",
       "208                  NaN              NaN"
      ]
     },
     "metadata": {},
     "output_type": "display_data"
    }
   ],
   "source": [
    "#looking at when `totalTravelDistance` is null\n",
    "print(\"Where totalTravelDistance is null\")\n",
    "df_but_null_total_dist = df[\n",
    "    df[\"totalTravelDistance\"].isnull()\n",
    "][[\"totalTravelDistance\", \"segmentsDistance\"]]\n",
    "display(df_but_null_total_dist.head())\n",
    "\n",
    "\n",
    "#looking at when `segmentsDistance` is null\n",
    "print(\"Where segmentsDistance is null\")\n",
    "df_but_null_segment_dist = df[\n",
    "    df[\"segmentsDistance\"].isnull()\n",
    "][[\"totalTravelDistance\", \"segmentsDistance\"]]\n",
    "display(df_but_null_segment_dist.head())\n",
    "\n",
    "\n",
    "#looking at when `segmentsDistanc` and `totalTravelDistance` is null\n",
    "print(\"Where segmentsDistance and totalTravelDistance is null\")\n",
    "df_but_null_total_and_segment_dist = df[\n",
    "    (df[\"segmentsDistance\"].isnull()) & \n",
    "    (df[\"segmentsDistance\"].isnull())\n",
    "][[\"totalTravelDistance\", \"segmentsDistance\"]]\n",
    "display(df_but_null_total_and_segment_dist.head())"
   ]
  },
  {
   "cell_type": "markdown",
   "metadata": {},
   "source": [
    "Some quick takeaways...\n",
    "- `segmentsDistance` possesses variables that can be labeled as \"None||None\" or be labeled as `NaN`. Hypothesis is that the variables labeled as \"None||None\" are recognized as proper strings with sensible reason. Meanwhile `NaN`s are truly unknown. \n",
    "- there is some evidence to suggest that if `segmentsDistance` is `NaN`, then the total distance column will also contain a `NaN`.\n",
    "    - this is testable by looking up the distinct combinations and providing counts on such for these. \n",
    "\n",
    "\n",
    "It is also important to note that we have not yet addressed the other equipment column showcasing the airplane type. "
   ]
  },
  {
   "cell_type": "markdown",
   "metadata": {},
   "source": []
  },
  {
   "cell_type": "markdown",
   "metadata": {},
   "source": []
  },
  {
   "cell_type": "markdown",
   "metadata": {},
   "source": []
  },
  {
   "cell_type": "markdown",
   "metadata": {},
   "source": []
  }
 ],
 "metadata": {
  "kernelspec": {
   "display_name": "base_env",
   "language": "python",
   "name": "python3"
  },
  "language_info": {
   "codemirror_mode": {
    "name": "ipython",
    "version": 3
   },
   "file_extension": ".py",
   "mimetype": "text/x-python",
   "name": "python",
   "nbconvert_exporter": "python",
   "pygments_lexer": "ipython3",
   "version": "3.11.9"
  }
 },
 "nbformat": 4,
 "nbformat_minor": 2
}
