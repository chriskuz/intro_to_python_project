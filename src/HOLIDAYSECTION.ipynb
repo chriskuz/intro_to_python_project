{
 "cells": [
  {
   "cell_type": "code",
   "execution_count": null,
   "metadata": {},
   "outputs": [
    {
     "name": "stdout",
     "output_type": "stream",
     "text": [
      "   flightDate  isHoliday  isNearHoliday\n",
      "0  2022-04-17          1              1\n",
      "1  2022-04-17          1              1\n",
      "2  2022-04-17          1              1\n",
      "3  2022-04-17          1              1\n",
      "4  2022-04-17          1              1\n",
      "5  2022-04-17          1              1\n",
      "6  2022-04-17          1              1\n",
      "7  2022-04-17          1              1\n",
      "8  2022-04-17          1              1\n",
      "9  2022-04-17          1              1\n",
      "10 2022-04-17          1              1\n",
      "11 2022-04-17          1              1\n",
      "12 2022-04-17          1              1\n",
      "13 2022-04-17          1              1\n",
      "14 2022-04-17          1              1\n"
     ]
    }
   ],
   "source": [
    "import pandas as pd\n",
    "\n",
    "df = pd.read_csv('../data/jetbluenew_df.csv')\n",
    "\n",
    "df['flightDate'] = pd.to_datetime(df['flightDate'])\n",
    "\n",
    "fixed_holidays = [\n",
    "    '2022-04-15',  # Good Friday\n",
    "    '2022-04-17',  # Easter Sunday\n",
    "    '2022-04-23',  # NYC Spring Break \n",
    "    '2022-04-30',  # Solar Eclipse\n",
    "    '2022-05-02',  # Eid al-Fitr\n",
    "    '2022-05-30',  # Memorial Day\n",
    "    '2022-06-19',  # Juneteenth\n",
    "    '2022-06-20',  # Observed Juneteenth\n",
    "    '2022-07-04',  # Independence Day\n",
    "    '2022-06-26',  # NYC Pride March\n",
    "    '2022-07-22',  # Comic-Con NYC start\n",
    "]\n",
    "fixed_holidays = pd.to_datetime(fixed_holidays)\n",
    "\n",
    "def calculate_dynamic_holidays(year):\n",
    "    \"\"\"\n",
    "    Calculate dynamic holidays like Mother's Day and Father's Day.\n",
    "    \"\"\"\n",
    "    holidays = []\n",
    "    \n",
    "    may = pd.date_range(start=f'{year}-05-01', end=f'{year}-05-31', freq='D')\n",
    "    mothers_day = may[may.dayofweek == 6][1]  # Second Sunday\n",
    "    holidays.append(mothers_day)\n",
    "    \n",
    "    june = pd.date_range(start=f'{year}-06-01', end=f'{year}-06-30', freq='D')\n",
    "    fathers_day = june[june.dayofweek == 6][2]  # Third Sunday\n",
    "    holidays.append(fathers_day)\n",
    "    \n",
    "    return holidays\n",
    "\n",
    "dynamic_holidays = calculate_dynamic_holidays(2022)\n",
    "\n",
    "all_holidays = list(fixed_holidays) + dynamic_holidays\n",
    "\n",
    "df['isHoliday'] = df['flightDate'].isin(all_holidays).astype(int)\n",
    "\n",
    "def is_near_holiday(date, holidays, window=3):\n",
    "    \"\"\"\n",
    "    Check if the date is within the window (before/after) of any holiday.\n",
    "    \"\"\"\n",
    "    return any((date >= holiday - pd.Timedelta(days=window)) & (date <= holiday + pd.Timedelta(days=window)) for holiday in holidays)\n",
    "\n",
    "df['isNearHoliday'] = df['flightDate'].apply(lambda x: 1 if is_near_holiday(x, all_holidays, window=3) else 0)\n",
    "\n",
    "df.drop(columns=['holidayProximity'], errors='ignore', inplace=True)  # Drop if it exists\n",
    "\n",
    "df.to_csv('../data/jetbluenew_master_with_holidays.csv', index=False)\n",
    "\n",
    "print(df[['flightDate', 'isHoliday', 'isNearHoliday']].head(15))\n",
    "\n"
   ]
  }
 ],
 "metadata": {
  "kernelspec": {
   "display_name": "Python 3",
   "language": "python",
   "name": "python3"
  },
  "language_info": {
   "codemirror_mode": {
    "name": "ipython",
    "version": 3
   },
   "file_extension": ".py",
   "mimetype": "text/x-python",
   "name": "python",
   "nbconvert_exporter": "python",
   "pygments_lexer": "ipython3",
   "version": "3.9.6"
  }
 },
 "nbformat": 4,
 "nbformat_minor": 2
}
