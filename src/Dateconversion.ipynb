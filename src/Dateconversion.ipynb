{
 "cells": [
  {
   "cell_type": "code",
   "execution_count": 1,
   "metadata": {},
   "outputs": [],
   "source": [
    "import pandas as pd\n",
    "from sklearn.preprocessing import MinMaxScaler\n",
    "\n",
    "\n",
    "df = pd.read_csv('../data/jetblueholidays_df.csv')  \n",
    "\n",
    "\n",
    "\n",
    "\n"
   ]
  },
  {
   "cell_type": "code",
   "execution_count": 51,
   "metadata": {},
   "outputs": [
    {
     "name": "stdout",
     "output_type": "stream",
     "text": [
      "Index(['travelDuration', 'elapsedDays', 'baseFare', 'totalFare',\n",
      "       'seatsRemaining', 'totalTravelDistance', 'segmentsDepartureTimeRaw',\n",
      "       'segmentsArrivalTimeRaw', 'segmentsArrivalAirportCode',\n",
      "       'segmentsDepartureAirportCode',\n",
      "       ...\n",
      "       'segmentsCabinCode_business||coach', 'segmentsCabinCode_coach',\n",
      "       'segmentsCabinCode_coach||business',\n",
      "       'segmentsCabinCode_coach||business||coach',\n",
      "       'segmentsCabinCode_coach||coach',\n",
      "       'segmentsCabinCode_coach||coach||coach',\n",
      "       'segmentsCabinCode_coach||coach||coach||coach', 'searchDate_int',\n",
      "       'isRefundable_True', 'isNonStop_True'],\n",
      "      dtype='object', length=142)\n"
     ]
    }
   ],
   "source": [
    "print(df.columns)\n"
   ]
  },
  {
   "cell_type": "code",
   "execution_count": 25,
   "metadata": {},
   "outputs": [
    {
     "name": "stdout",
     "output_type": "stream",
     "text": [
      "searchDate    datetime64[ns]\n",
      "flightDate    datetime64[ns]\n",
      "dtype: object\n"
     ]
    }
   ],
   "source": [
    "print(df[['searchDate', 'flightDate']].dtypes)\n"
   ]
  },
  {
   "cell_type": "code",
   "execution_count": 26,
   "metadata": {},
   "outputs": [],
   "source": [
    "df['searchDate_int'] = df['searchDate'].dt.strftime('%Y%m%d').astype(int)\n",
    "df['flightDate_int'] = df['flightDate'].dt.strftime('%Y%m%d').astype(int)\n"
   ]
  },
  {
   "cell_type": "code",
   "execution_count": 52,
   "metadata": {},
   "outputs": [],
   "source": [
    "columns_to_drop = ['searchDate', 'flightDate']\n",
    "existing_columns = [col for col in columns_to_drop if col in df.columns]\n",
    "\n"
   ]
  },
  {
   "cell_type": "code",
   "execution_count": 53,
   "metadata": {},
   "outputs": [],
   "source": [
    "if existing_columns:\n",
    "    df = df.drop(columns=existing_columns)"
   ]
  },
  {
   "cell_type": "code",
   "execution_count": 54,
   "metadata": {},
   "outputs": [
    {
     "name": "stdout",
     "output_type": "stream",
     "text": [
      "   searchDate_int  flightDate_int\n",
      "0        20220416        20220417\n",
      "1        20220416        20220417\n",
      "2        20220416        20220417\n",
      "3        20220416        20220417\n",
      "4        20220416        20220417\n",
      "Index(['travelDuration', 'elapsedDays', 'baseFare', 'totalFare',\n",
      "       'seatsRemaining', 'totalTravelDistance', 'segmentsDepartureTimeRaw',\n",
      "       'segmentsArrivalTimeRaw', 'segmentsArrivalAirportCode',\n",
      "       'segmentsDepartureAirportCode',\n",
      "       ...\n",
      "       'segmentsCabinCode_business||coach', 'segmentsCabinCode_coach',\n",
      "       'segmentsCabinCode_coach||business',\n",
      "       'segmentsCabinCode_coach||business||coach',\n",
      "       'segmentsCabinCode_coach||coach',\n",
      "       'segmentsCabinCode_coach||coach||coach',\n",
      "       'segmentsCabinCode_coach||coach||coach||coach', 'searchDate_int',\n",
      "       'isRefundable_True', 'isNonStop_True'],\n",
      "      dtype='object', length=142)\n"
     ]
    }
   ],
   "source": [
    "print(df[['searchDate_int', 'flightDate_int']].head()) \n",
    "print(df.columns)"
   ]
  }
 ],
 "metadata": {
  "kernelspec": {
   "display_name": ".venv",
   "language": "python",
   "name": "python3"
  },
  "language_info": {
   "codemirror_mode": {
    "name": "ipython",
    "version": 3
   },
   "file_extension": ".py",
   "mimetype": "text/x-python",
   "name": "python",
   "nbconvert_exporter": "python",
   "pygments_lexer": "ipython3",
   "version": "3.9.6"
  }
 },
 "nbformat": 4,
 "nbformat_minor": 2
}
