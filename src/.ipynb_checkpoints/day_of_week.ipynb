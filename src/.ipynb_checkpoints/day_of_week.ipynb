{
 "cells": [
  {
   "cell_type": "code",
   "execution_count": 9,
   "metadata": {},
   "outputs": [
    {
     "name": "stdout",
     "output_type": "stream",
     "text": [
      "Index(['searchDate', 'route', 'flightDate', 'startingAirport',\n",
      "       'destinationAirport', 'travelDuration', 'elapsedDays', 'isBasicEconomy',\n",
      "       'isRefundable', 'isNonStop', 'baseFare', 'totalFare', 'seatsRemaining',\n",
      "       'totalTravelDistance', 'segmentsDepartureTimeRaw',\n",
      "       'segmentsArrivalTimeRaw', 'segmentsArrivalAirportCode',\n",
      "       'segmentsDepartureAirportCode', 'segmentsAirlineName',\n",
      "       'segmentsDurationInSeconds', 'segmentsCabinCode', 'departureTime',\n",
      "       'arrivalTime', 'departureCategory', 'arrivalCategory', 'daysLeft',\n",
      "       'numStops'],\n",
      "      dtype='object')\n"
     ]
    }
   ],
   "source": [
    "import os\n",
    "import pandas as pd\n",
    "import numpy as np\n",
    "import math\n",
    "import cmath\n",
    "import matplotlib.pyplot as plt\n",
    "import seaborn as sns\n",
    "\n",
    "\n",
    "data = pd.read_csv('../../data/jetblue_NYairports_featureEngineering_df.csv')\n",
    "print(data.columns)"
   ]
  },
  {
   "cell_type": "code",
   "execution_count": 10,
   "metadata": {},
   "outputs": [
    {
     "name": "stdout",
     "output_type": "stream",
     "text": [
      "   searchDate    route  flightDate startingAirport destinationAirport  \\\n",
      "0  2022-04-16  ATL|EWR  2022-04-17             ATL                EWR   \n",
      "1  2022-04-16  ATL|JFK  2022-04-17             ATL                JFK   \n",
      "2  2022-04-16  ATL|JFK  2022-04-17             ATL                JFK   \n",
      "3  2022-04-16  ATL|LGA  2022-04-17             ATL                LGA   \n",
      "4  2022-04-16  ATL|LGA  2022-04-17             ATL                LGA   \n",
      "\n",
      "  travelDuration  elapsedDays  isBasicEconomy  isRefundable  isNonStop  ...  \\\n",
      "0         PT2H9M            0           False         False       True  ...   \n",
      "1        PT2H15M            0           False         False       True  ...   \n",
      "2        PT2H23M            0           False         False       True  ...   \n",
      "3        PT2H16M            0           False         False       True  ...   \n",
      "4        PT2H19M            0           False         False       True  ...   \n",
      "\n",
      "   segmentsDepartureAirportCode  segmentsAirlineName  \\\n",
      "0                           ATL      JetBlue Airways   \n",
      "1                           ATL      JetBlue Airways   \n",
      "2                           ATL      JetBlue Airways   \n",
      "3                           ATL      JetBlue Airways   \n",
      "4                           ATL      JetBlue Airways   \n",
      "\n",
      "   segmentsDurationInSeconds  segmentsCabinCode departureTime arrivalTime  \\\n",
      "0                       7740              coach      07:30:00    09:39:00   \n",
      "1                       8100              coach      09:00:00    11:15:00   \n",
      "2                       8580              coach      18:50:00    21:13:00   \n",
      "3                       8160              coach      12:03:00    14:19:00   \n",
      "4                       8340              coach      10:40:00    12:59:00   \n",
      "\n",
      "  departureCategory arrivalCategory daysLeft numStops  \n",
      "0           Morning         Morning        1        0  \n",
      "1           Morning            Noon        1        0  \n",
      "2         Afternoon         Evening        1        0  \n",
      "3              Noon            Noon        1        0  \n",
      "4           Morning            Noon        1        0  \n",
      "\n",
      "[5 rows x 27 columns]\n"
     ]
    }
   ],
   "source": [
    "print(data.head())\n"
   ]
  },
  {
   "cell_type": "code",
   "execution_count": 12,
   "metadata": {},
   "outputs": [
    {
     "name": "stdout",
     "output_type": "stream",
     "text": [
      "New columns have been added and reordered in the original file!\n"
     ]
    }
   ],
   "source": [
    "file_path = '../../data/jetblue_NYairports_featureEngineering_df.csv'\n",
    "data['searchDate'] = pd.to_datetime(data['searchDate'])\n",
    "data['flightDate'] = pd.to_datetime(data['flightDate'])\n",
    "\n",
    "data['searchDayOfWeek'] = data['searchDate'].dt.day_name()\n",
    "data['flightDayOfWeek'] = data['flightDate'].dt.day_name()\n",
    "\n",
    "# Reorder columns so that the new features follow their respective date columns\n",
    "columns_order = []\n",
    "for col in data.columns:\n",
    "    columns_order.append(col)\n",
    "    if col == 'searchDate':\n",
    "        columns_order.append('searchDayOfWeek')\n",
    "    if col == 'flightDate':\n",
    "        columns_order.append('flightDayOfWeek')\n",
    "\n",
    "# Filter out duplicates in case the new columns were added multiple times\n",
    "columns_order = list(dict.fromkeys(columns_order))\n",
    "\n",
    "# Apply the new column order\n",
    "data = data[columns_order]\n",
    "\n",
    "# Overwrite the original file with the reordered DataFrame\n",
    "data.to_csv(file_path, index=False)\n",
    "\n",
    "print(\"New columns have been added and reordered in the original file!\")"
   ]
  },
  {
   "cell_type": "code",
   "execution_count": 13,
   "metadata": {},
   "outputs": [
    {
     "name": "stdout",
     "output_type": "stream",
     "text": [
      "  searchDate searchDayOfWeek    route flightDate flightDayOfWeek  \\\n",
      "0 2022-04-16        Saturday  ATL|EWR 2022-04-17          Sunday   \n",
      "1 2022-04-16        Saturday  ATL|JFK 2022-04-17          Sunday   \n",
      "2 2022-04-16        Saturday  ATL|JFK 2022-04-17          Sunday   \n",
      "3 2022-04-16        Saturday  ATL|LGA 2022-04-17          Sunday   \n",
      "4 2022-04-16        Saturday  ATL|LGA 2022-04-17          Sunday   \n",
      "\n",
      "  startingAirport destinationAirport travelDuration  elapsedDays  \\\n",
      "0             ATL                EWR         PT2H9M            0   \n",
      "1             ATL                JFK        PT2H15M            0   \n",
      "2             ATL                JFK        PT2H23M            0   \n",
      "3             ATL                LGA        PT2H16M            0   \n",
      "4             ATL                LGA        PT2H19M            0   \n",
      "\n",
      "   isBasicEconomy  ...  segmentsDepartureAirportCode  segmentsAirlineName  \\\n",
      "0           False  ...                           ATL      JetBlue Airways   \n",
      "1           False  ...                           ATL      JetBlue Airways   \n",
      "2           False  ...                           ATL      JetBlue Airways   \n",
      "3           False  ...                           ATL      JetBlue Airways   \n",
      "4           False  ...                           ATL      JetBlue Airways   \n",
      "\n",
      "   segmentsDurationInSeconds  segmentsCabinCode  departureTime  arrivalTime  \\\n",
      "0                       7740              coach       07:30:00     09:39:00   \n",
      "1                       8100              coach       09:00:00     11:15:00   \n",
      "2                       8580              coach       18:50:00     21:13:00   \n",
      "3                       8160              coach       12:03:00     14:19:00   \n",
      "4                       8340              coach       10:40:00     12:59:00   \n",
      "\n",
      "  departureCategory arrivalCategory daysLeft numStops  \n",
      "0           Morning         Morning        1        0  \n",
      "1           Morning            Noon        1        0  \n",
      "2         Afternoon         Evening        1        0  \n",
      "3              Noon            Noon        1        0  \n",
      "4           Morning            Noon        1        0  \n",
      "\n",
      "[5 rows x 29 columns]\n"
     ]
    }
   ],
   "source": [
    "print(data.head())"
   ]
  }
 ],
 "metadata": {
  "kernelspec": {
   "display_name": "base",
   "language": "python",
   "name": "python3"
  },
  "language_info": {
   "codemirror_mode": {
    "name": "ipython",
    "version": 3
   },
   "file_extension": ".py",
   "mimetype": "text/x-python",
   "name": "python",
   "nbconvert_exporter": "python",
   "pygments_lexer": "ipython3",
   "version": "3.12.2"
  }
 },
 "nbformat": 4,
 "nbformat_minor": 2
}
