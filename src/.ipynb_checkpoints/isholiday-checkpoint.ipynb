{
 "cells": [
  {
   "cell_type": "code",
   "execution_count": null,
   "metadata": {},
   "outputs": [],
   "source": [
    "import pandas as pd\n",
    "df = pd.read_csv(jetblue_NYairports_featureEngineering_df.read_csv)\n",
    "df['flightDate'] = pd.to_datetime(df['flightDate'])\n"
   ]
  }
 ],
 "metadata": {
  "language_info": {
   "name": "python"
  }
 },
 "nbformat": 4,
 "nbformat_minor": 2
}
