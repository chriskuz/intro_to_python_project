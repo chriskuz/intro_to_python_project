{
 "cells": [
  {
   "cell_type": "markdown",
   "metadata": {},
   "source": [
    "# Using Real-Time Flight Fare Prediction to Find the Lowest Deals \n",
    "\n",
    "(working title)\n",
    "\n",
    "**Authors**:\n",
    "- Chris Kuzemka\n",
    "- Irene Chau\n",
    "- Ali Nazim\n",
    "- Yurica Xu\n",
    "- Aqib Rahim"
   ]
  },
  {
   "cell_type": "markdown",
   "metadata": {},
   "source": [
    "# Table of Contents\n",
    "\n",
    "Here goes the sections of this notebook breakdown and we can apply relevant authors to it as well. "
   ]
  },
  {
   "cell_type": "markdown",
   "metadata": {},
   "source": [
    "# Executive Summary\n",
    "\n",
    "(write a short abstract of the project's total aim, brief important finding, and accomplishment)\n",
    "\n",
    "\n",
    "\n",
    "\n"
   ]
  },
  {
   "cell_type": "markdown",
   "metadata": {},
   "source": [
    "## Data Overview\n",
    "\n",
    "(actual dictionary goes here) -- Yurica's work\n",
    "\n",
    "discussion on the data's integrity and composition "
   ]
  },
  {
   "cell_type": "markdown",
   "metadata": {},
   "source": [
    "#  Data Exploration and Cleaning"
   ]
  },
  {
   "cell_type": "code",
   "execution_count": null,
   "metadata": {},
   "outputs": [],
   "source": [
    "import pandas as pd\n",
    "import numpy as np\n",
    "\n",
    "import matplotlib.pyplot as plt\n",
    "import seaborn as sns\n"
   ]
  },
  {
   "cell_type": "markdown",
   "metadata": {},
   "source": [
    "## Kaggle Itineraries\n",
    "\n",
    "(discussion on limits of handling this data)\n",
    "\n",
    "(discussion on its composition)"
   ]
  },
  {
   "cell_type": "markdown",
   "metadata": {},
   "source": [
    "## JetBlue Focus\n",
    "\n",
    "(discussion on why we went with this)\n",
    "\n",
    "(discussion on problems existent still with its broad focus) <- showcasing of routes\n",
    "\n",
    "(discussion on isolating NY models)"
   ]
  },
  {
   "cell_type": "markdown",
   "metadata": {},
   "source": [
    "## Cleaning\n",
    "\n",
    "(little nuances) <- nulls, useless features, \n",
    "\n",
    "(problems with labeling and constraints) <- made up information or missing information or inconsistent labeling lacking data\n",
    "\n",
    "(outliers and why they are outliers)\n",
    "\n"
   ]
  },
  {
   "cell_type": "markdown",
   "metadata": {},
   "source": [
    "## Feature Engineering and KPIs\n",
    "\n",
    "(showoff some of the features created and plotting)"
   ]
  },
  {
   "cell_type": "markdown",
   "metadata": {},
   "source": [
    "# Model Preprocessing\n",
    "\n",
    "(re-discussion of any points on how the model might be influenced based on what we know)\n",
    "\n",
    "(model encoding strategeis)\n",
    "\n"
   ]
  },
  {
   "cell_type": "markdown",
   "metadata": {},
   "source": [
    "# Modeling\n",
    "\n",
    "(preliminary models)\n",
    "\n",
    "(discussion of observations and failures)\n",
    "\n",
    "(showing off different models)\n",
    "\n",
    "(discussion and nshowcasing of best models)"
   ]
  },
  {
   "cell_type": "markdown",
   "metadata": {},
   "source": [
    "# Model Application\n",
    "\n",
    "(discuss how the model is used in an applicable setting)\n",
    "\n",
    "(consider discussions on how it can be improved)\n",
    "\n",
    "(discuss how the scope could be increased to other airports and routes or markets if applicable)"
   ]
  },
  {
   "cell_type": "markdown",
   "metadata": {},
   "source": []
  }
 ],
 "metadata": {
  "kernelspec": {
   "display_name": "base_env",
   "language": "python",
   "name": "python3"
  },
  "language_info": {
   "codemirror_mode": {
    "name": "ipython",
    "version": 3
   },
   "file_extension": ".py",
   "mimetype": "text/x-python",
   "name": "python",
   "nbconvert_exporter": "python",
   "pygments_lexer": "ipython3",
   "version": "3.11.9"
  }
 },
 "nbformat": 4,
 "nbformat_minor": 2
}
