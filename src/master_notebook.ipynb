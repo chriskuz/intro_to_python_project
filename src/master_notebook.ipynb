{
 "cells": [
  {
   "cell_type": "markdown",
   "metadata": {},
   "source": [
    "# Predicting Flight Ticket Prices for JetBlue in New York\n",
    "\n",
    "**Notebook Authors**:\n",
    "- Chris Kuzemka\n",
    "- Irene Chau\n",
    "- Ali Nazim\n",
    "- Yurica Xu\n",
    "- Aqib Rahim"
   ]
  },
  {
   "cell_type": "markdown",
   "metadata": {},
   "source": [
    "##  Imports & Notebook Functions"
   ]
  },
  {
   "cell_type": "code",
   "execution_count": 5,
   "metadata": {},
   "outputs": [],
   "source": [
    "import pandas as pd\n",
    "import numpy as np\n",
    "import matplotlib.pyplot as plt\n",
    "import seaborn as sns"
   ]
  },
  {
   "cell_type": "markdown",
   "metadata": {},
   "source": [
    "## Data Builder"
   ]
  },
  {
   "cell_type": "code",
   "execution_count": 9,
   "metadata": {},
   "outputs": [],
   "source": [
    "base_df = pd.read_csv(\"../data/cleaned_jetblue_df.csv\") #cleaned\n",
    "jetblue_df = pd.read_csv(\"../data/jetblue_df.csv\")"
   ]
  },
  {
   "cell_type": "markdown",
   "metadata": {},
   "source": [
    "# Table of Contents\n",
    "\n",
    "Here goes the sections of this notebook breakdown and we can apply relevant authors to it as well. "
   ]
  },
  {
   "cell_type": "markdown",
   "metadata": {},
   "source": [
    "## Data Overview\n",
    "\n",
    "| Variable Name | Expected Data Type | Description |\n",
    "|--------------|-------------------|-------------|\n",
    "| searchDate | datetime | Date when the flight search was performed |\n",
    "| searchDayOfWeek | int/string | Day of the week when search was performed |\n",
    "| route | string | Flight route code |\n",
    "| flightDate | datetime | Scheduled date of the flight |\n",
    "| flightDayOfWeek | int/string | Day of the week of the flight |\n",
    "| startingAirport | string | Departure airport code |\n",
    "| destinationAirport | string | Arrival airport code |\n",
    "| elapsedDays | int | Number of days between search date and flight date |\n",
    "| isBasicEconomy | boolean | Whether the ticket is basic economy class |\n",
    "| isRefundable | boolean | Whether the ticket is refundable |\n",
    "| isNonStop | boolean | Whether the flight is non-stop |\n",
    "| baseFare | float | Base ticket price before taxes and fees |\n",
    "| totalFare | float | Total price including all taxes and fees |\n",
    "| seatsRemaining | int | Number of seats available |\n",
    "| totalTravelDistance | float | Total flight distance |\n",
    "| segmentsDepartureTimeRaw | datetime | Raw departure time for flight segments |\n",
    "| segmentsArrivalTimeRaw | datetime | Raw arrival time for flight segments |\n",
    "| segmentsArrivalAirportCode | string | Airport code for segment arrival |\n",
    "| segmentsDepartureAirportCode | string | Airport code for segment departure |\n",
    "| segmentsAirlineName | string | Name of the airline |\n",
    "| segmentsDurationInSeconds | int | Duration of flight segments in seconds |\n",
    "| segmentsCabinCode | string | Cabin class code |\n",
    "| departureTime | datetime | Flight departure time |\n",
    "| arrivalTime | datetime | Flight arrival time |\n",
    "| departureCategory | string | Category of departure time (e.g., morning/afternoon) |\n",
    "| arrivalCategory | string | Category of arrival time (e.g., morning/afternoon) |\n",
    "| isHolidaySearchDate | boolean | Whether the search date is a holiday |\n",
    "| isHolidayFlightDate | boolean | Whether the flight date is a holiday |\n",
    "| nearHolidaySearchDate | boolean | Whether the search date is near a holiday |\n",
    "| nearHolidayFlightDate | boolean | Whether the flight date is near a holiday |\n",
    "| searchDateInt | int | Integer representation of search date |\n",
    "| flightDateInt | int | Integer representation of flight date |\n",
    "| daysLeft | int | Days remaining until flight departure |\n",
    "| numStops | int | Number of stops in the flight route |\n",
    "\n",
    "discussion on the data's integrity and composition "
   ]
  },
  {
   "cell_type": "markdown",
   "metadata": {},
   "source": [
    "#  Data Exploration and Cleaning"
   ]
  },
  {
   "cell_type": "code",
   "execution_count": null,
   "metadata": {},
   "outputs": [],
   "source": []
  },
  {
   "cell_type": "markdown",
   "metadata": {},
   "source": [
    "## Reading Kaggle Itineraries \n",
    "\n",
    "**Christopher Kuzemka**\n",
    "\n",
    "The original project began with observing a 30GB dataset from Kaggle. For the sake of conserving space, the processing notebook used to explore this master is no longer available as the dataset was largely discarded in favor of computational efficiency. For the purpose of this section, we still will briefly discuss the content of Kaggle's itineraries dataset and will be referencing the [project's data source](https://www.kaggle.com/datasets/dilwong/flightprices). The source itself labels that there are only 5.9M columns, but our group had to strongly reduce the size of the dataset. Practically speaking, we als sport a final dataframe of approximately 3.9M rows with a file size approximately 1GB. The math just doesn't add up and we believe Kaggle (or the author) made an error here. \n",
    "\n",
    "Regardless, the 30GB original dataframe sporadically included information from a variety of airlines. Our quick-attempt to find the best dataset was to choose a subsection filter off of the itineraries dataframe. The choices between difference dataframes came down to 3 proposed airlines:\n",
    "\n",
    "- AmericanAirlines (~10-12GB)\n",
    "- Delta (~4GB)\n",
    "- JetBlue (~1GB)\n",
    "\n",
    "Note that the files sizes shown above are approximatiions as the originals were later deleted and the notebook affiliated with such also removed. \n",
    "\n",
    "In the next section we talk about the chosen dataframe. "
   ]
  },
  {
   "cell_type": "code",
   "execution_count": 12,
   "metadata": {},
   "outputs": [
    {
     "name": "stdout",
     "output_type": "stream",
     "text": [
      "The shape of our cleaned JetBlue df is: (3929953, 34)\n",
      "The shape of our uncleaned JetBlue df is: (6824440, 28)\n",
      "The size of our cleaned JetBlue df is: 133618402\n",
      "The size of our uncleaned JetBlue df is: 191084320\n"
     ]
    }
   ],
   "source": [
    "print(f\"The shape of our cleaned JetBlue df is: {base_df.shape}\")\n",
    "\n",
    "print(f\"The shape of our uncleaned JetBlue df is: {jetblue_df.shape}\")\n",
    "\n",
    "print(f\"The size of our cleaned JetBlue df is: {base_df.size}\")\n",
    "\n",
    "print(f\"The size of our uncleaned JetBlue df is: {jetblue_df.size}\")"
   ]
  },
  {
   "cell_type": "markdown",
   "metadata": {},
   "source": [
    "## JetBlue Focus\n",
    "\n",
    "**Christopher Kuzemka**\n",
    "\n",
    "JetBlue was the winning dataframe for a small number of reasons. The first was that the dataset was small to process but rich in size for our project (against housing approximately 3.9M rows). We organized our cleaning processes through a cleaning script found in our project's `toolkit` folder. The cleaning script accepted this approximate 2GB dataset of uncleaned JetBlue data and converted it into the cleaned JetBlue data we have today.\n",
    "\n",
    "The uncleaned data is represented as the variable `jetblue_df` and the cleaned data is represented as the variable `base_df` (the naming convention here to signify a working dataframe)."
   ]
  },
  {
   "cell_type": "code",
   "execution_count": null,
   "metadata": {},
   "outputs": [],
   "source": []
  },
  {
   "cell_type": "markdown",
   "metadata": {},
   "source": [
    "## Cleaning\n",
    "\n",
    "(little nuances) <- nulls, useless features, \n",
    "\n",
    "- nulls \n",
    "\n",
    "(problems with labeling and constraints) <- made up information or missing information or inconsistent labeling lacking data\n",
    "\n",
    "(outliers and why they are outliers)\n",
    "\n"
   ]
  },
  {
   "cell_type": "markdown",
   "metadata": {},
   "source": [
    "## Feature Engineering and KPIs\n",
    "\n",
    "(showoff some of the features created and plotting)"
   ]
  },
  {
   "cell_type": "markdown",
   "metadata": {},
   "source": [
    "# Model Preprocessing\n",
    "\n",
    "(re-discussion of any points on how the model might be influenced based on what we know)\n",
    "\n",
    "(model encoding strategeis)\n",
    "\n"
   ]
  },
  {
   "cell_type": "markdown",
   "metadata": {},
   "source": [
    "# Modeling\n",
    "\n",
    "(preliminary models)\n",
    "\n",
    "(discussion of observations and failures)\n",
    "\n",
    "(showing off different models)\n",
    "\n",
    "(discussion and nshowcasing of best models)"
   ]
  },
  {
   "cell_type": "markdown",
   "metadata": {},
   "source": [
    "# Model Application\n",
    "\n",
    "(discuss how the model is used in an applicable setting)\n",
    "\n",
    "(consider discussions on how it can be improved)\n",
    "\n",
    "(discuss how the scope could be increased to other airports and routes or markets if applicable)"
   ]
  },
  {
   "cell_type": "markdown",
   "metadata": {},
   "source": []
  }
 ],
 "metadata": {
  "kernelspec": {
   "display_name": "base_env",
   "language": "python",
   "name": "python3"
  },
  "language_info": {
   "codemirror_mode": {
    "name": "ipython",
    "version": 3
   },
   "file_extension": ".py",
   "mimetype": "text/x-python",
   "name": "python",
   "nbconvert_exporter": "python",
   "pygments_lexer": "ipython3",
   "version": "3.11.9"
  }
 },
 "nbformat": 4,
 "nbformat_minor": 2
}
