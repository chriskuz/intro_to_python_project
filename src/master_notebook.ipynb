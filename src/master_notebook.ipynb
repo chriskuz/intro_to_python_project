{
 "cells": [
  {
   "cell_type": "markdown",
   "metadata": {},
   "source": [
    "# Predicting Flight Ticket Prices for JetBlue in New York\n",
    "\n",
    "**Notebook Authors**:\n",
    "- Chris Kuzemka\n",
    "- Irene Chau\n",
    "- Ali Nazim\n",
    "- Yurica Xu\n",
    "- Aqib Rahim"
   ]
  },
  {
   "cell_type": "markdown",
   "metadata": {},
   "source": [
    "##  Imports & Notebook Functions"
   ]
  },
  {
   "cell_type": "code",
   "execution_count": 5,
   "metadata": {},
   "outputs": [],
   "source": [
    "import pandas as pd\n",
    "import numpy as np\n",
    "import matplotlib.pyplot as plt\n",
    "import seaborn as sns"
   ]
  },
  {
   "cell_type": "markdown",
   "metadata": {},
   "source": [
    "## Data Builder"
   ]
  },
  {
   "cell_type": "code",
   "execution_count": 6,
   "metadata": {},
   "outputs": [],
   "source": [
    "base_df = pd.read_csv(\"../data/cleaned_jetblue_df.csv\")"
   ]
  },
  {
   "cell_type": "markdown",
   "metadata": {},
   "source": [
    "# Table of Contents\n",
    "\n",
    "Here goes the sections of this notebook breakdown and we can apply relevant authors to it as well. "
   ]
  },
  {
   "cell_type": "markdown",
   "metadata": {},
   "source": [
    "## Data Overview\n",
    "\n",
    "| Variable Name | Expected Data Type | Description |\n",
    "|--------------|-------------------|-------------|\n",
    "| searchDate | datetime | Date when the flight search was performed |\n",
    "| searchDayOfWeek | int/string | Day of the week when search was performed |\n",
    "| route | string | Flight route code |\n",
    "| flightDate | datetime | Scheduled date of the flight |\n",
    "| flightDayOfWeek | int/string | Day of the week of the flight |\n",
    "| startingAirport | string | Departure airport code |\n",
    "| destinationAirport | string | Arrival airport code |\n",
    "| elapsedDays | int | Number of days between search date and flight date |\n",
    "| isBasicEconomy | boolean | Whether the ticket is basic economy class |\n",
    "| isRefundable | boolean | Whether the ticket is refundable |\n",
    "| isNonStop | boolean | Whether the flight is non-stop |\n",
    "| baseFare | float | Base ticket price before taxes and fees |\n",
    "| totalFare | float | Total price including all taxes and fees |\n",
    "| seatsRemaining | int | Number of seats available |\n",
    "| totalTravelDistance | float | Total flight distance |\n",
    "| segmentsDepartureTimeRaw | datetime | Raw departure time for flight segments |\n",
    "| segmentsArrivalTimeRaw | datetime | Raw arrival time for flight segments |\n",
    "| segmentsArrivalAirportCode | string | Airport code for segment arrival |\n",
    "| segmentsDepartureAirportCode | string | Airport code for segment departure |\n",
    "| segmentsAirlineName | string | Name of the airline |\n",
    "| segmentsDurationInSeconds | int | Duration of flight segments in seconds |\n",
    "| segmentsCabinCode | string | Cabin class code |\n",
    "| departureTime | datetime | Flight departure time |\n",
    "| arrivalTime | datetime | Flight arrival time |\n",
    "| departureCategory | string | Category of departure time (e.g., morning/afternoon) |\n",
    "| arrivalCategory | string | Category of arrival time (e.g., morning/afternoon) |\n",
    "| isHolidaySearchDate | boolean | Whether the search date is a holiday |\n",
    "| isHolidayFlightDate | boolean | Whether the flight date is a holiday |\n",
    "| nearHolidaySearchDate | boolean | Whether the search date is near a holiday |\n",
    "| nearHolidayFlightDate | boolean | Whether the flight date is near a holiday |\n",
    "| searchDateInt | int | Integer representation of search date |\n",
    "| flightDateInt | int | Integer representation of flight date |\n",
    "| daysLeft | int | Days remaining until flight departure |\n",
    "| numStops | int | Number of stops in the flight route |\n",
    "\n",
    "discussion on the data's integrity and composition "
   ]
  },
  {
   "cell_type": "markdown",
   "metadata": {},
   "source": [
    "#  Data Exploration and Cleaning"
   ]
  },
  {
   "cell_type": "markdown",
   "metadata": {},
   "source": [
    "## Kaggle Itineraries\n",
    "\n",
    "(discussion on limits of handling this data)\n",
    "\n",
    "(discussion on its composition)"
   ]
  },
  {
   "cell_type": "markdown",
   "metadata": {},
   "source": [
    "## JetBlue Focus\n",
    "\n",
    "(discussion on why we went with this)\n",
    "\n",
    "(discussion on problems existent still with its broad focus) <- showcasing of routes\n",
    "\n",
    "(discussion on isolating NY models)"
   ]
  },
  {
   "cell_type": "markdown",
   "metadata": {},
   "source": [
    "## Cleaning\n",
    "\n",
    "(little nuances) <- nulls, useless features, \n",
    "\n",
    "(problems with labeling and constraints) <- made up information or missing information or inconsistent labeling lacking data\n",
    "\n",
    "(outliers and why they are outliers)\n",
    "\n"
   ]
  },
  {
   "cell_type": "markdown",
   "metadata": {},
   "source": [
    "## Feature Engineering and KPIs\n",
    "\n",
    "(showoff some of the features created and plotting)"
   ]
  },
  {
   "cell_type": "markdown",
   "metadata": {},
   "source": [
    "# Model Preprocessing\n",
    "\n",
    "(re-discussion of any points on how the model might be influenced based on what we know)\n",
    "\n",
    "(model encoding strategeis)\n",
    "\n"
   ]
  },
  {
   "cell_type": "markdown",
   "metadata": {},
   "source": [
    "# Modeling\n",
    "\n",
    "(preliminary models)\n",
    "\n",
    "(discussion of observations and failures)\n",
    "\n",
    "(showing off different models)\n",
    "\n",
    "(discussion and nshowcasing of best models)"
   ]
  },
  {
   "cell_type": "markdown",
   "metadata": {},
   "source": [
    "# Model Application\n",
    "\n",
    "(discuss how the model is used in an applicable setting)\n",
    "\n",
    "(consider discussions on how it can be improved)\n",
    "\n",
    "(discuss how the scope could be increased to other airports and routes or markets if applicable)"
   ]
  },
  {
   "cell_type": "markdown",
   "metadata": {},
   "source": []
  }
 ],
 "metadata": {
  "kernelspec": {
   "display_name": "base_env",
   "language": "python",
   "name": "python3"
  },
  "language_info": {
   "codemirror_mode": {
    "name": "ipython",
    "version": 3
   },
   "file_extension": ".py",
   "mimetype": "text/x-python",
   "name": "python",
   "nbconvert_exporter": "python",
   "pygments_lexer": "ipython3",
   "version": "3.11.9"
  }
 },
 "nbformat": 4,
 "nbformat_minor": 2
}
