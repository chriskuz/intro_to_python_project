{
 "cells": [
  {
   "cell_type": "code",
   "execution_count": 2,
   "metadata": {},
   "outputs": [],
   "source": [
    "import os\n",
    "import pandas as pd\n",
    "import numpy as np\n",
    "import math\n",
    "import cmath\n",
    "import matplotlib.pyplot as plt\n",
    "import seaborn as sns\n",
    "from datetime import datetime as dt"
   ]
  },
  {
   "cell_type": "code",
   "execution_count": 3,
   "metadata": {},
   "outputs": [],
   "source": [
    "relative_path_to_new_data_destination = \"../data/testing_cleaned_jetblue_df.csv\"\n",
    "\n",
    "df = pd.read_csv(relative_path_to_new_data_destination)"
   ]
  },
  {
   "cell_type": "code",
   "execution_count": 4,
   "metadata": {},
   "outputs": [
    {
     "data": {
      "text/plain": [
       "Index(['searchDate', 'route', 'flightDate', 'startingAirport',\n",
       "       'destinationAirport', 'travelDuration', 'elapsedDays', 'isBasicEconomy',\n",
       "       'isRefundable', 'isNonStop', 'baseFare', 'totalFare', 'seatsRemaining',\n",
       "       'totalTravelDistance', 'segmentsDepartureTimeRaw',\n",
       "       'segmentsArrivalTimeRaw', 'segmentsArrivalAirportCode',\n",
       "       'segmentsDepartureAirportCode', 'segmentsAirlineName',\n",
       "       'segmentsDurationInSeconds', 'segmentsCabinCode', 'departureTime',\n",
       "       'arrivalTime', 'departureCategory', 'arrivalCategory', 'daysLeft',\n",
       "       'numStops'],\n",
       "      dtype='object')"
      ]
     },
     "execution_count": 4,
     "metadata": {},
     "output_type": "execute_result"
    }
   ],
   "source": [
    "df.columns"
   ]
  },
  {
   "cell_type": "code",
   "execution_count": 5,
   "metadata": {},
   "outputs": [
    {
     "data": {
      "text/plain": [
       "['arrivalCategory',\n",
       " 'arrivalTime',\n",
       " 'baseFare',\n",
       " 'daysLeft',\n",
       " 'departureCategory',\n",
       " 'departureTime',\n",
       " 'destinationAirport',\n",
       " 'elapsedDays',\n",
       " 'flightDate',\n",
       " 'isBasicEconomy',\n",
       " 'isNonStop',\n",
       " 'isRefundable',\n",
       " 'numStops',\n",
       " 'route',\n",
       " 'searchDate',\n",
       " 'seatsRemaining',\n",
       " 'segmentsAirlineName',\n",
       " 'segmentsArrivalAirportCode',\n",
       " 'segmentsArrivalTimeRaw',\n",
       " 'segmentsCabinCode',\n",
       " 'segmentsDepartureAirportCode',\n",
       " 'segmentsDepartureTimeRaw',\n",
       " 'segmentsDurationInSeconds',\n",
       " 'startingAirport',\n",
       " 'totalFare',\n",
       " 'totalTravelDistance',\n",
       " 'travelDuration']"
      ]
     },
     "execution_count": 5,
     "metadata": {},
     "output_type": "execute_result"
    }
   ],
   "source": [
    "sorted(df.columns)"
   ]
  },
  {
   "cell_type": "code",
   "execution_count": 38,
   "metadata": {},
   "outputs": [
    {
     "data": {
      "text/html": [
       "<div>\n",
       "<style scoped>\n",
       "    .dataframe tbody tr th:only-of-type {\n",
       "        vertical-align: middle;\n",
       "    }\n",
       "\n",
       "    .dataframe tbody tr th {\n",
       "        vertical-align: top;\n",
       "    }\n",
       "\n",
       "    .dataframe thead th {\n",
       "        text-align: right;\n",
       "    }\n",
       "</style>\n",
       "<table border=\"1\" class=\"dataframe\">\n",
       "  <thead>\n",
       "    <tr style=\"text-align: right;\">\n",
       "      <th></th>\n",
       "      <th>searchDate</th>\n",
       "      <th>flightDate</th>\n",
       "      <th>startingAirport</th>\n",
       "      <th>destinationAirport</th>\n",
       "      <th>travelDuration</th>\n",
       "      <th>elapsedDays</th>\n",
       "      <th>isBasicEconomy</th>\n",
       "      <th>isRefundable</th>\n",
       "      <th>isNonStop</th>\n",
       "      <th>baseFare</th>\n",
       "      <th>totalFare</th>\n",
       "      <th>seatsRemaining</th>\n",
       "      <th>totalTravelDistance</th>\n",
       "      <th>segmentsDepartureTimeRaw</th>\n",
       "      <th>segmentsArrivalTimeRaw</th>\n",
       "      <th>segmentsArrivalAirportCode</th>\n",
       "      <th>segmentsDepartureAirportCode</th>\n",
       "      <th>segmentsAirlineName</th>\n",
       "      <th>segmentsDurationInSeconds</th>\n",
       "      <th>segmentsCabinCode</th>\n",
       "    </tr>\n",
       "  </thead>\n",
       "  <tbody>\n",
       "  </tbody>\n",
       "</table>\n",
       "</div>"
      ],
      "text/plain": [
       "Empty DataFrame\n",
       "Columns: [searchDate, flightDate, startingAirport, destinationAirport, travelDuration, elapsedDays, isBasicEconomy, isRefundable, isNonStop, baseFare, totalFare, seatsRemaining, totalTravelDistance, segmentsDepartureTimeRaw, segmentsArrivalTimeRaw, segmentsArrivalAirportCode, segmentsDepartureAirportCode, segmentsAirlineName, segmentsDurationInSeconds, segmentsCabinCode]\n",
       "Index: []"
      ]
     },
     "execution_count": 38,
     "metadata": {},
     "output_type": "execute_result"
    }
   ],
   "source": [
    "import os\n",
    "import pandas as pd\n",
    "import numpy as np\n",
    "import math\n",
    "import cmath\n",
    "import matplotlib.pyplot as plt\n",
    "import seaborn as sns\n",
    "from datetime import datetime as dt\n",
    "\n",
    "\n",
    "##Functions and \n",
    "#Datetime Conversion\n",
    "def table_datetime_conversion(df):\n",
    "    # Convert 'searchDate' and 'flightDate' to datetime, handling potential errors\n",
    "    df['searchDate'] = pd.to_datetime(df['searchDate'], format='%Y-%m-%d', errors='coerce')\n",
    "    df['flightDate'] = pd.to_datetime(df['flightDate'], format='%Y-%m-%d', errors='coerce')\n",
    "\n",
    "    # Ensure the columns are of datetime type\n",
    "    df['searchDate'] = df['searchDate'].astype('datetime64[ns]')\n",
    "    df['flightDate'] = df['flightDate'].astype('datetime64[ns]')\n",
    "\n",
    "    return df\n",
    "\n",
    "\n",
    "#For start-end time classification \n",
    "def extract_time(time_string):\n",
    "    segments = time_string.split(\"||\")\n",
    "    first_segment = segments[0]\n",
    "\n",
    "    datetime = dt.fromisoformat(first_segment)\n",
    "    return datetime.time()\n",
    "\n",
    "#For start-end time classification \n",
    "def time_classification(time):\n",
    "    hour=time.hour #get the hour from the time object\n",
    "    #ex: 06:30 -> 6\n",
    "    if hour in range(3,7): #03:00 - 06:00\n",
    "        return 'Early Morning'\n",
    "    elif hour in range(7,11):\n",
    "        return 'Morning'\n",
    "    elif hour in range(11,15):\n",
    "        return 'Noon'\n",
    "    elif hour in range(15,19):\n",
    "        return 'Afternoon'\n",
    "    elif hour in range(19,23):\n",
    "        return 'Evening'\n",
    "    elif hour in [23,0,1,2]: # 23:00 - 02:00 (covering late night)\n",
    "        return 'Late night'\n",
    "    else:\n",
    "        return 'Unknown'\n",
    "\n",
    "\n",
    "#For non-KPI feature creation\n",
    "def feature_creation(df):\n",
    "    \n",
    "    #Extracted Time Columns\n",
    "    df['departureTime']=df['segmentsDepartureTimeRaw'].apply(extract_time)\n",
    "    df['arrivalTime']=df['segmentsArrivalTimeRaw'].apply(extract_time)\n",
    "\n",
    "    #Categorizing ordinal times\n",
    "    df['departureCategory'] = df['departureTime'].apply(time_classification)\n",
    "    df['arrivalCategory'] = df['arrivalTime'].apply(time_classification)\n",
    "\n",
    "    #Route\n",
    "    df['route']=df['startingAirport'] + '|' + df['destinationAirport']\n",
    "    relocate_route_col = df.pop('route')\n",
    "    df.insert(1,'route', relocate_route_col)\n",
    "    \n",
    "    return df\n",
    "\n",
    "\n",
    "\n",
    "#For KPI feature creation\n",
    "def kpi_creation(df):\n",
    "\n",
    "    df[\"daysLeft\"] = (df[\"flightDate\"] - df[\"searchDate\"]).dt.days\n",
    "    df['numStops']= df['segmentsAirlineName'].apply(lambda x: len(x.split('||'))-1)\n",
    "    # df[\"dollarPerMile\"]\n",
    "    # df[\"milePerDollar\"]\n",
    "    # df[\"monthlyAverageRoutePrice\"]\n",
    "\n",
    "    return df\n",
    "\n",
    "\n",
    "\n",
    "### Table Transformation# ###\n",
    "\n",
    "##Bring in table\n",
    "relative_path_to_native_data = \"../data/jetblue_df.csv\"\n",
    "# relative_path_to_new_data_destination = \"../data/cleaned_jetblue_df.csv\"\n",
    "# relative_path_to_new_data_destination = \"../data/testing_cleaned_jetblue_df.csv\"\n",
    "\n",
    "df = pd.read_csv(relative_path_to_native_data) \n",
    "\n",
    "\n",
    "\n",
    "\n",
    "##Drop unused columns\n",
    "dropped_columns = [\n",
    "    \"Unnamed: 0\", #useless\n",
    "    \"segmentsAirlineCode\", #redundant\n",
    "    \"segmentsEquipmentDescription\", #dirty\n",
    "    \"fareBasisCode\", #bloat\n",
    "    \"legId\", #bloat\n",
    "    \"segmentsDistance\", #bloat\n",
    "    # \"travelDuration\" #bloat?\n",
    "    \"segmentsDepartureTimeEpochSeconds\",\n",
    "    \"segmentsArrivalTimeEpochSeconds\"\n",
    "\n",
    "]\n",
    "df.drop(columns=dropped_columns, axis=1, inplace=True)\n",
    "\n",
    "\n",
    "##Remove Null Values\n",
    "df.dropna(inplace=True)\n",
    "\n",
    "\n",
    "#Filtering\n",
    "\n",
    "# Filtering only \"NY\" routes..\n",
    "# EWR (NJ airport) included as it's poopular for New Yorkers to travel to Newark for flights.\n",
    "ny_filter = [\"JFK\", \"LGA\", \"EWR\"]\n",
    "df = df[\n",
    "    (df[\"startingAirport\"].isin(ny_filter)) |         #only starting airport\n",
    "    (df[\"destinationAirport\"].isin(ny_filter))        #only destination airports\n",
    "    ]  \n",
    "\n",
    "\n",
    "##iltering out JetBlue partners\n",
    "pure_jetblue_filter = [\" 'JetBlue Airways', 'JetBlue Airways||JetBlue Airways','JetBlue Airways||JetBlue Airways||JetBlue Airways' \"] #here for interpretability\n",
    "df = df[ df[\"segmentsAirlineName\"].isin(pure_jetblue_filter) ]\n",
    "\n",
    "df.head()\n",
    "\n",
    "# ##Label cleaning\n",
    "# #Datetime Conversion\n",
    "# df = table_datetime_conversion(df)\n",
    "\n",
    "\n",
    "# ##Feature Engineering\n",
    "# #Feature Creation\n",
    "# df = feature_creation(df)\n",
    "\n",
    "\n",
    "# #KPI Creation\n",
    "# df = kpi_creation(df)"
   ]
  },
  {
   "cell_type": "code",
   "execution_count": 39,
   "metadata": {},
   "outputs": [
    {
     "data": {
      "text/plain": [
       "(0, 20)"
      ]
     },
     "execution_count": 39,
     "metadata": {},
     "output_type": "execute_result"
    }
   ],
   "source": [
    "df.shape"
   ]
  },
  {
   "cell_type": "code",
   "execution_count": 40,
   "metadata": {},
   "outputs": [
    {
     "data": {
      "text/plain": [
       "0"
      ]
     },
     "execution_count": 40,
     "metadata": {},
     "output_type": "execute_result"
    }
   ],
   "source": [
    "df.size"
   ]
  },
  {
   "cell_type": "code",
   "execution_count": 37,
   "metadata": {},
   "outputs": [
    {
     "name": "stdout",
     "output_type": "stream",
     "text": [
      "2818524\n",
      "56370480\n"
     ]
    }
   ],
   "source": [
    "rows_before_ny_filter = 6768004\n",
    "rows_after_ny_filter = 3949480\n",
    "\n",
    "\n",
    "size_before_ny_filter = 135360080\n",
    "size_after_ny_filter = 78989600\n",
    "\n",
    "row_difference = rows_before_ny_filter - rows_after_ny_filter\n",
    "\n",
    "size_difference = size_before_ny_filter - size_after_ny_filter\n",
    "\n",
    "print(row_difference)\n",
    "print(size_difference)"
   ]
  },
  {
   "cell_type": "code",
   "execution_count": null,
   "metadata": {},
   "outputs": [],
   "source": [
    "rows_before_airline_filter = 6768004\n",
    "rows_after_airline_filter = 3949480\n",
    "\n",
    "\n",
    "size_before_airline_filter = 135360080\n",
    "size_after_airline_filter = 78989600\n",
    "\n",
    "row_difference = rows_before_airline_filter - rows_after_airline_filter\n",
    "\n",
    "size_difference = size_before_airline_filter - size_after_airline_filter\n",
    "\n",
    "print(row_difference)\n",
    "print(size_difference)"
   ]
  }
 ],
 "metadata": {
  "kernelspec": {
   "display_name": "base_env",
   "language": "python",
   "name": "python3"
  },
  "language_info": {
   "codemirror_mode": {
    "name": "ipython",
    "version": 3
   },
   "file_extension": ".py",
   "mimetype": "text/x-python",
   "name": "python",
   "nbconvert_exporter": "python",
   "pygments_lexer": "ipython3",
   "version": "3.11.9"
  }
 },
 "nbformat": 4,
 "nbformat_minor": 2
}
